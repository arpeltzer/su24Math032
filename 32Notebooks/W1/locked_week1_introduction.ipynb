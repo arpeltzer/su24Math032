{
  "cells": [
    {
      "cell_type": "markdown",
      "id": "c55320a1-251e-43d7-aba4-cd2460f015a5",
      "metadata": {
        "trusted": true,
        "editable": false,
        "deletable": false
      },
      "source": [
        "<h2> Introduction to using Jupyter </h2>\n",
        "\n",
        "This notebook is meant to give you an introduction to using Jupyter.\n",
        "\n",
        "This notebook has a couple of questions that introduce you to the process of using Python code to answer questions, along with the particular syntax. If you're interested in learning more about the details of coding in Python, [this tutorial](https://www.w3schools.com/python/) is a great starting point.\n",
        "\n",
        "Let's get started!"
      ]
    },
    {
      "cell_type": "markdown",
      "id": "1130b99f-a841-4bce-a3d2-22c7a1ad54c9",
      "metadata": {
        "trusted": true,
        "editable": false,
        "deletable": false
      },
      "source": [
        "<h3> Part 1: Computing a sum with Python </h3>\n",
        "\n",
        "In previous courses, you probability computed sums with sigma notation; for example,\n",
        "$$\\sum_{n = 1}^{1000} \\frac{1}{n} = \\frac 1 1 + \\frac 1 2 + \\frac 1 3 + \\cdots \\frac{1}{1000}.$$\n",
        "These can get extremely cumbersome to compute by hand, but are easily handled by a computer using a [for loop](https://www.w3schools.com/python/python_for_loops.asp). The Python code that will compute this sum is below, with a lot of comments. Comments are placed on lines using \\#, and are not interpreted as code."
      ]
    },
    {
      "cell_type": "code",
      "execution_count": 1,
      "id": "541b55e7-8e68-4545-a0f6-855bfa7769ec",
      "metadata": {
        "trusted": true,
        "editable": false,
        "deletable": false
      },
      "outputs": [
        {
          "name": "stdout",
          "output_type": "stream",
          "text": [
            "7.485470860550343\n"
          ]
        }
      ],
      "source": [
        "# initialize the sum\n",
        "s = 0\n",
        "\n",
        "\n",
        "# run a for loop that adds 1/n each\n",
        "for n in range(1, 1000 + 1):\n",
        "    s = s + 1/n\n",
        "\n",
        "print(s)\n"
      ]
    },
    {
      "cell_type": "markdown",
      "id": "70aad6cf",
      "metadata": {
        "trusted": true,
        "editable": false,
        "deletable": false
      },
      "source": [
        "### Problem 1"
      ]
    },
    {
      "cell_type": "markdown",
      "id": "dbbcb83c-125c-4e71-827b-3f013c6ac463",
      "metadata": {
        "trusted": true,
        "editable": false,
        "deletable": false
      },
      "source": [
        "So the sum of the first $1000$ numbers is about $7.49$. Now it's your turn; add a new code block to **answer the following two questions**.\n",
        "\n",
        "* Compute $\\sum_{n = 1}^{100} n^3$. Note that in Python, $a^b$ is written as `a**b`.\n",
        "\n",
        "* Estimate $\\sum_{n = 1}^{10^5} \\frac{1}{n^2}.$"
      ]
    },
    {
      "cell_type": "code",
      "execution_count": null,
      "id": "084c75e7",
      "metadata": {
        "trusted": true,
        "editable": true,
        "deletable": false
      },
      "outputs": [],
      "source": [
        "# Put your answer to Problem 1a here\n",
        "\n",
        "...\n",
        "\n",
        "sum_of_cubes = ...\n",
        "print(sum_of_cubes)"
      ]
    },
    {
      "cell_type": "code",
      "execution_count": null,
      "id": "22653bc9",
      "metadata": {
        "trusted": true,
        "editable": true,
        "deletable": false
      },
      "outputs": [],
      "source": [
        "# Put your answer to Problem 1b here\n",
        "\n",
        "...\n",
        "\n",
        "sum_of_squares = ...\n",
        "print(sum_of_squares)"
      ]
    },
    {
      "cell_type": "markdown",
      "id": "3511abcd-16cf-4b22-8d20-9adcb77e499f",
      "metadata": {
        "trusted": true,
        "editable": false,
        "deletable": false
      },
      "source": [
        "<h3> Part 2: Generating random numbers with Python </h3>\n",
        "\n",
        "For this, we will use the [numpy](https://numpy.org) package, although there are many choices for generating random numbers using python.\n",
        "\n",
        "Here is the documentation for the [randint()](https://numpy.org/doc/stable/reference/random/generated/numpy.random.randint.html) function we will be using."
      ]
    },
    {
      "cell_type": "code",
      "execution_count": 14,
      "id": "aa7f79fc-0f1f-43cf-8d39-8a91e9a165ba",
      "metadata": {
        "trusted": true,
        "editable": false,
        "deletable": false
      },
      "outputs": [
        {
          "name": "stdout",
          "output_type": "stream",
          "text": [
            "0\n"
          ]
        }
      ],
      "source": [
        "import numpy as np\n",
        "# choose either 0 or 1\n",
        "flip = np.random.randint(low = 0 , high = 2)\n",
        "print(flip)"
      ]
    },
    {
      "cell_type": "markdown",
      "id": "0996ed87",
      "metadata": {
        "trusted": true,
        "editable": false,
        "deletable": false
      },
      "source": [
        "For this problem, we will think of 0 as Tails and 1 as Heads"
      ]
    },
    {
      "cell_type": "code",
      "execution_count": 15,
      "id": "fbe9bfa3",
      "metadata": {
        "trusted": true,
        "editable": false,
        "deletable": false
      },
      "outputs": [
        {
          "name": "stdout",
          "output_type": "stream",
          "text": [
            "Number of heads = 58\n"
          ]
        }
      ],
      "source": [
        "flips = np.random.randint(low = 0, high = 2, size = 100)\n",
        "heads = flips.sum()\n",
        "print(f'Number of heads = {heads}')"
      ]
    },
    {
      "cell_type": "markdown",
      "id": "048304ad",
      "metadata": {
        "trusted": true,
        "editable": false,
        "deletable": false
      },
      "source": [
        "### Problem 2"
      ]
    },
    {
      "cell_type": "markdown",
      "id": "decbc1a7-7f6d-4179-8dd2-eb569d804056",
      "metadata": {
        "trusted": true,
        "editable": false,
        "deletable": false
      },
      "source": [
        "Suppose you flip $1000$ coins and record the number of heads.\n",
        "Do this experiment $10$ times; what's the largest number of heads that you recorded in those ten runs?\n"
      ]
    },
    {
      "cell_type": "code",
      "execution_count": null,
      "id": "e5880e23",
      "metadata": {
        "trusted": true,
        "editable": true,
        "deletable": false
      },
      "outputs": [],
      "source": [
        "# Put your answer to Problem 2a here\n",
        "\n",
        "\n",
        "largest_number_of_heads = ...\n",
        "print(largest_number_of_heads)"
      ]
    },
    {
      "cell_type": "markdown",
      "id": "f9d44057",
      "metadata": {
        "trusted": true,
        "editable": false,
        "deletable": false
      },
      "source": [
        "How likely do you think it is to see a result of at least $600$ heads out of $1000$ flips? Do you think it's somewhat unlikely, very unlikely, or extremely unlikely?"
      ]
    },
    {
      "cell_type": "code",
      "execution_count": 16,
      "id": "fbf62074",
      "metadata": {
        "trusted": true,
        "editable": true,
        "deletable": false
      },
      "outputs": [
        {
          "name": "stdout",
          "output_type": "stream",
          "text": [
            "...\n"
          ]
        }
      ],
      "source": [
        "# Put your answer to Problem 2b here\n",
        "\n",
        "free_response = '...'\n",
        "\n",
        "print(free_response)"
      ]
    },
    {
      "cell_type": "markdown",
      "id": "c6c9a2e0-327f-4eec-b8d6-811dab55396d",
      "metadata": {
        "trusted": true,
        "editable": false,
        "deletable": false
      },
      "source": [
        "<h3> Part 3: Submitting this to Gradescope </h3>\n",
        "\n",
        "Once you've finished modifying your notebook and answering the questions, you'll need to submit it to Gradescope along with your other homework. To do this, generate a pdf file by clicking `File -> Download as... -> Notebook (.ipynb)`. Then upload that PDF to Gradescope and submit it to the assignment `Weekly Jupyter 1`. As always -- if you have any questions or run into any issues you can\n",
        "* ask during discussion,\n",
        "* email your TA or instructor,\n",
        "* or bring them to office hours!"
      ]
    },
    {
      "cell_type": "code",
      "execution_count": null,
      "id": "6aa5ff00",
      "metadata": {},
      "outputs": [],
      "source": []
    }
  ],
  "metadata": {
    "kernelspec": {
      "display_name": "Python 3 (ipykernel)",
      "language": "python",
      "name": "python3"
    },
    "language_info": {
      "codemirror_mode": {
        "name": "ipython",
        "version": 3
      },
      "file_extension": ".py",
      "mimetype": "text/x-python",
      "name": "python",
      "nbconvert_exporter": "python",
      "pygments_lexer": "ipython3",
      "version": "3.11.4"
    }
  },
  "nbformat": 4,
  "nbformat_minor": 5
}