{
  "cells": [
    {
      "cell_type": "markdown",
      "id": "d98d5624-b39a-4b89-a0ba-b176b0b1e40e",
      "metadata": {
        "trusted": true,
        "editable": false,
        "deletable": false
      },
      "source": [
        "<h2> Simulation </h2>\n",
        "\n",
        "One of the most powerful tools we have in understanding probability is to *simulate* an experiment many times; this gives us a lot of information about the long-term behavior of a model.\n",
        "\n",
        "In this notebook, we'll explore how we can simulate dice rolls using Python and generate and analyze random data for this purpose. The code blocks below will simulate throwing multiple dice, recording their outcomes, and doing computations with them."
      ]
    },
    {
      "cell_type": "markdown",
      "id": "c6f95808-0a18-42ad-80c8-69666e1cfd54",
      "metadata": {
        "trusted": true,
        "editable": false,
        "deletable": false
      },
      "source": [
        "<h3> Simulating dice rolls: the code </h3>\n",
        "\n"
      ]
    },
    {
      "cell_type": "code",
      "execution_count": null,
      "id": "5e5a3078-f0ae-4a92-9302-6c948810cd5f",
      "metadata": {
        "trusted": true,
        "editable": false,
        "deletable": false
      },
      "outputs": [],
      "source": [
        "import numpy as np\n",
        "\n",
        "\n",
        "def roll_die(num_sides,num_trials):\n",
        "    rolls = np.random.randint(low = 1, high = num_sides+1, size = num_trials)\n",
        "    return rolls\n",
        "\n",
        "# We're now going to roll the die ten times.\n",
        "num_trials = 10\n",
        "num_sides =  6\n",
        "results = roll_die(num_sides,num_trials)\n",
        "\n",
        "print(results)"
      ]
    },
    {
      "cell_type": "markdown",
      "id": "fb937b05-fcc0-4589-82a1-c1c237e3fd21",
      "metadata": {
        "trusted": true,
        "editable": false,
        "deletable": false
      },
      "source": [
        "Suppose we want to roll two dice, add their rolls, and count how many times their sum is eight. Let's also do $10,000$ experiments."
      ]
    },
    {
      "cell_type": "code",
      "execution_count": null,
      "id": "2877d5f7-3506-4432-8834-3b7c9727f053",
      "metadata": {
        "trusted": true,
        "editable": false,
        "deletable": false
      },
      "outputs": [],
      "source": [
        "num_trials = 10000\n",
        "\n",
        "first_die = roll_die(num_sides,num_trials)\n",
        "second_die = roll_die(num_sides,num_trials)\n",
        "\n",
        "sum_of_dice = first_die+second_die\n",
        "\n",
        "num = (sum_of_dice == 8).sum()\n",
        "\n",
        "print('The dice added to 8 in ',num,' trials out of ',num_trials)"
      ]
    },
    {
      "cell_type": "markdown",
      "id": "2916163a-3abc-4e23-9cb1-7b76a4a44044",
      "metadata": {
        "trusted": true,
        "editable": false,
        "deletable": false
      },
      "source": [
        "Running $10000$ trials, I had $1324$ successes -- meaning that the probability of the two dice adding to $8$ is about $0.1324$. On the other hand, using the ideas from class, there are $5$ possible dice rolls out of the $36$ total which have a sum of $5$ (2-6, 3-5, 4-4, 5-3, and 6-2). This leads to a probability of $5/36 \\approx 0.139$; so our simulation was only about $2\\%$ off from the truth. This is pretty great!"
      ]
    },
    {
      "cell_type": "code",
      "execution_count": null,
      "id": "a357e1ae-6d10-42e0-b3d6-f4128fda83c9",
      "metadata": {
        "trusted": true,
        "editable": false,
        "deletable": false
      },
      "outputs": [],
      "source": [
        "num_trials = 1000\n",
        "\n",
        "first_die = roll_die(num_sides,num_trials)\n",
        "second_die = roll_die(num_sides,num_trials)\n",
        "\n",
        "sum_of_dice = first_die+second_die\n",
        "\n",
        "for r in range(2, 13):\n",
        "    frequency = (sum_of_dice == r).mean()\n",
        "    print(f'Probability of summing to ', r,' = ', frequency)"
      ]
    },
    {
      "cell_type": "markdown",
      "id": "dc80ab03-8de6-4327-b6d9-cfb789a61845",
      "metadata": {
        "trusted": true,
        "editable": false,
        "deletable": false
      },
      "source": [
        "Based on this, the most likely outcomes were $6, 7, $ and $8$. We would need to do more trials to get more certainty -- this is a pretty small simulation!\n",
        "\n",
        "<h3> Questions </h3>\n",
        "\n",
        "For the following questions, add or modify code blocks as necessary. Use the block below this one that contains your conclusions; you can copy-paste any results into that cell.\n",
        "\n",
        "1) Run a few experiments with a small number of trials (on the order of 100). Run a few experiments with a large number of trials (like 100K or more). In which case do you see more variation in the experiment results? "
      ]
    },
    {
      "cell_type": "code",
      "execution_count": null,
      "id": "11909484",
      "metadata": {
        "trusted": true,
        "editable": true,
        "deletable": false
      },
      "outputs": [],
      "source": [
        "# Put your answer to Question 1 here\n",
        "\n",
        "\n",
        "\n"
      ]
    },
    {
      "cell_type": "markdown",
      "id": "efcae160",
      "metadata": {
        "trusted": true,
        "editable": false,
        "deletable": false
      },
      "source": [
        "\n",
        "2) If you roll three dice instead, what is/are the most common sum(s)?\n"
      ]
    },
    {
      "cell_type": "code",
      "execution_count": null,
      "id": "edb8af85",
      "metadata": {
        "trusted": true,
        "editable": true,
        "deletable": false
      },
      "outputs": [],
      "source": [
        "# Put your answer to Question 2 here\n",
        "\n",
        "\n",
        "\n",
        "\n",
        "most_common_sums = ...\n",
        "print(most_common_sums)"
      ]
    },
    {
      "cell_type": "markdown",
      "id": "9919d357",
      "metadata": {
        "trusted": true,
        "editable": false,
        "deletable": false
      },
      "source": [
        "\n",
        "3) Let's change the experiment: roll two dice and multiply their values instead of adding. Make a table of the probabilities for each outcome in $\\{1, 2, ..., 36\\}$.\n",
        "\n"
      ]
    },
    {
      "cell_type": "code",
      "execution_count": null,
      "id": "e77b8a41",
      "metadata": {
        "trusted": true,
        "editable": true,
        "deletable": false
      },
      "outputs": [],
      "source": [
        "# Put your answer to Question 3 here\n",
        "\n",
        "\n",
        "\n",
        "\n",
        "product_of_dice = ...\n",
        "for r in range(1, 37):\n",
        "    frequency = (product_of_dice == r).mean()\n",
        "    print(f'Probability of summing to ', r,' = ', frequency)"
      ]
    },
    {
      "cell_type": "markdown",
      "id": "6794c6a5",
      "metadata": {
        "trusted": true,
        "editable": false,
        "deletable": false
      },
      "source": [
        "<h4> Submitting this to Gradescope </h4>\n",
        "\n",
        "Once you've finished filling in your conclusions, generate a pdf file as in the previous week. Then upload that pdf to Gradescope and submit it to the assignment `Weekly Jupyter 2`. "
      ]
    }
  ],
  "metadata": {
    "kernelspec": {
      "display_name": "Python 3 (ipykernel)",
      "language": "python",
      "name": "python3"
    },
    "language_info": {
      "codemirror_mode": {
        "name": "ipython",
        "version": 3
      },
      "file_extension": ".py",
      "mimetype": "text/x-python",
      "name": "python",
      "nbconvert_exporter": "python",
      "pygments_lexer": "ipython3",
      "version": "3.11.4"
    }
  },
  "nbformat": 4,
  "nbformat_minor": 5
}