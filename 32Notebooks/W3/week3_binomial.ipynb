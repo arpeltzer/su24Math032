{
 "cells": [
  {
   "cell_type": "markdown",
   "id": "a4c9a51d",
   "metadata": {},
   "source": [
    "# Jupyter Week 3\n",
    "\n",
    "## Math 032, Summer 2024"
   ]
  },
  {
   "cell_type": "markdown",
   "id": "f264fc7f",
   "metadata": {},
   "source": [
    "<h3> Binomial distributions </h3>"
   ]
  },
  {
   "cell_type": "markdown",
   "id": "8ce94788-0008-41bd-9354-417c3117f95b",
   "metadata": {},
   "source": [
    "<h4> Part 1: Getting a sense of the binomial distribution </h4>\n",
    "\n",
    "The binomial distribution has the probability mass function\n",
    "\n",
    "\n",
    "$$f(k) = \\binom{n}{k} p^k (1 - p)^{n - k} \\ \\ \\ \\ \\ $$ for $k=0,1,...,n$"
   ]
  },
  {
   "cell_type": "markdown",
   "id": "3d6898e6",
   "metadata": {},
   "source": [
    "We can get the pmf and cdf of common distributions using scipy's stats package of statistical functions."
   ]
  },
  {
   "cell_type": "code",
   "execution_count": null,
   "id": "e361e8c4",
   "metadata": {
    "scrolled": true
   },
   "outputs": [],
   "source": [
    "# import the requisite package\n",
    "from scipy.stats import binom\n",
    "\n",
    "print(binom.pmf(1,10,0.2))\n",
    "print(binom.pmf(0,10,0.2)+binom.pmf(1,10,0.2))\n",
    "print(binom.cdf(1,10,0.2))\n"
   ]
  },
  {
   "cell_type": "markdown",
   "id": "d112cdc2-c0f5-4a51-847a-edcc0f175980",
   "metadata": {},
   "source": [
    "Now let's use this to gather and test some data.\n",
    "\n",
    "### Question 1: \n",
    "- Suppose you flip a fair ($p = 0.5$) coin $100$ times. How likely is it that you'll see exactly $50$ heads? What is the probability that you'll see between $45$ and $55$ heads (including $45$ and $55$)?"
   ]
  },
  {
   "cell_type": "code",
   "execution_count": 1,
   "id": "3995bdeb",
   "metadata": {},
   "outputs": [
    {
     "name": "stdout",
     "output_type": "stream",
     "text": [
      "Ellipsis\n"
     ]
    }
   ],
   "source": [
    "# Fill in the ... with your answer\n",
    "\n",
    "\n",
    "\n",
    "probability = ...\n",
    "print(probability)"
   ]
  },
  {
   "cell_type": "markdown",
   "id": "5f9cfc33-d0a5-4e53-b521-14744a83ffaf",
   "metadata": {},
   "source": [
    "### Question 2:\n",
    "\n",
    "\n",
    "\n",
    "In this part of the weekly notebook, you'll use simulation to answer a problem from the textbook (Exercise 4.12). Here it is:\n",
    "\n",
    "> You and a friend want to go to a concert, but unfortunately only one ticket is still available. The man who sells the tickets decides to toss a coin until heads appears. In each toss heads appears with probability $p$, where $0 < p < 1$, independent of each of the previous tosses. If the number of tosses needed is odd, your friend is allowed to buy the ticket; otherwise you can buy it. Would you agree to this arrangement?\n",
    "\n",
    "\n",
    "Write and run code to simulate this, using a few different values of $p$. Then decide whether you would agree to the arrangement, and how your experimentation led you to this conclusion. Does your answer depend on the value of $p$?\n"
   ]
  },
  {
   "cell_type": "code",
   "execution_count": null,
   "id": "158a70e5",
   "metadata": {},
   "outputs": [],
   "source": [
    "# Use the three functions below to run a simulation and estimate the probability\n",
    "#     of getting an even number of rolls"
   ]
  },
  {
   "cell_type": "code",
   "execution_count": null,
   "id": "ff6ee86e-0279-4208-a01b-80cb273db638",
   "metadata": {},
   "outputs": [],
   "source": [
    "# run this cell\n",
    "from random import random\n",
    "\n",
    "def tossCoin(p):\n",
    "    r = random()\n",
    "    if r < p:\n",
    "        return 'H'\n",
    "    else:\n",
    "        return 'T'\n",
    "\n",
    "def number_of_tosses(p):\n",
    "    count = 0\n",
    "    while True: \n",
    "        count += 1\n",
    "        toss = tossCoin(p)\n",
    "        if toss == 'H':\n",
    "            return count\n",
    "\n",
    "def isEven(n):\n",
    "    if n % 2 == 0:\n",
    "        return True\n",
    "    else:\n",
    "        return False"
   ]
  },
  {
   "cell_type": "code",
   "execution_count": null,
   "id": "06acd242",
   "metadata": {},
   "outputs": [],
   "source": [
    "# Put your answer to Question 2 here\n",
    "\n",
    "\n",
    "\n",
    "probability_approximation_even = ...\n",
    "print(probability_approximation_even)"
   ]
  },
  {
   "cell_type": "markdown",
   "id": "ad6f1595",
   "metadata": {},
   "source": [
    "Does this asnwer depend on $p$? Run a few different values to see if it does."
   ]
  },
  {
   "cell_type": "code",
   "execution_count": 8,
   "id": "14b24647",
   "metadata": {},
   "outputs": [],
   "source": [
    "# Put your response here\n",
    "\n"
   ]
  },
  {
   "cell_type": "markdown",
   "id": "5e9e69e4-8e56-4cf4-9ff8-87e437a8bc1c",
   "metadata": {},
   "source": [
    "<h4> Part 3: Submitting your work to Gradescope </h4>\n",
    "\n",
    "Add or modify code as needed to answer the questions in the above two parts. Then put your conclusions in the text cells below. As always, export your notebook as a pdf and upload it to Canvas by the homework deadline."
   ]
  }
 ],
 "metadata": {
  "kernelspec": {
   "display_name": "Python 3 (ipykernel)",
   "language": "python",
   "name": "python3"
  },
  "language_info": {
   "codemirror_mode": {
    "name": "ipython",
    "version": 3
   },
   "file_extension": ".py",
   "mimetype": "text/x-python",
   "name": "python",
   "nbconvert_exporter": "python",
   "pygments_lexer": "ipython3",
   "version": "3.11.4"
  }
 },
 "nbformat": 4,
 "nbformat_minor": 5
}
