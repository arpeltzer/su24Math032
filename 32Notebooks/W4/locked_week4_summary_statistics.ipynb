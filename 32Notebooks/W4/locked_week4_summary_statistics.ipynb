{
  "cells": [
    {
      "cell_type": "markdown",
      "id": "c9d94f58-4a62-4265-9a0f-1ef6999d3f44",
      "metadata": {
        "trusted": true,
        "editable": false,
        "deletable": false
      },
      "source": [
        "<h2> Simulating means and variances </h2>\n",
        "\n",
        "<h4> Part 1: Introduction </h4>\n",
        "\n",
        "In this notebook, we'll study the normal distribution and learn how to sample from it."
      ]
    },
    {
      "cell_type": "markdown",
      "id": "1a4ddec1-b8f5-48ee-b887-43d446e3a608",
      "metadata": {
        "trusted": true,
        "editable": false,
        "deletable": false
      },
      "source": [
        "<h4> Part 2: Generating data </h4>\n",
        "\n",
        "To begin, let's use scipy's stats package to find the percentiles (or quantiles) of the standard normal distribution and compare it to the table in our textbook."
      ]
    },
    {
      "cell_type": "code",
      "execution_count": null,
      "id": "40e89d9b-0e05-486d-914c-b82b7dbd089c",
      "metadata": {
        "trusted": true,
        "editable": false,
        "deletable": false
      },
      "outputs": [],
      "source": [
        "from scipy.stats import norm\n",
        "\n",
        "# Define the mean and standard deviation of the normal distribution\n",
        "mean = 0\n",
        "std_dev = 1\n",
        "\n",
        "# Create a normal distribution object\n",
        "normal_dist = norm(loc=mean, scale=std_dev)\n",
        "\n",
        "# Calculate the quantiles\n",
        "quantile_95 = normal_dist.ppf(0.95)\n",
        "quantile_80 = normal_dist.ppf(0.80)\n",
        "\n",
        "print(\"95th percentile (quantile):\", quantile_95)\n",
        "print(\"80th percentile (quantile):\", quantile_80)"
      ]
    },
    {
      "cell_type": "markdown",
      "id": "3ac0d5c8-2af3-4af9-81a8-fa5a1d29e72e",
      "metadata": {
        "trusted": true,
        "editable": false,
        "deletable": false
      },
      "source": [
        "We can also generate samples using the following syntax:"
      ]
    },
    {
      "cell_type": "code",
      "execution_count": null,
      "id": "da31e91c-fcf8-497b-aa4c-7d7317d9a0f3",
      "metadata": {
        "trusted": true,
        "editable": false,
        "deletable": false
      },
      "outputs": [],
      "source": [
        "sample_size = 10000\n",
        "samples = normal_dist.rvs(size=sample_size)\n",
        "print(\"The first five samples are \",samples[:5])"
      ]
    },
    {
      "cell_type": "markdown",
      "id": "b68a3042-04ce-4daf-922f-9d136db392c0",
      "metadata": {
        "trusted": true,
        "editable": false,
        "deletable": false
      },
      "source": [
        "Let's continue: we can compute means and variances by directly computing averages."
      ]
    },
    {
      "cell_type": "code",
      "execution_count": null,
      "id": "d3d9fc77-7672-4a2f-8541-a3f478d9667e",
      "metadata": {
        "trusted": true,
        "editable": false,
        "deletable": false
      },
      "outputs": [],
      "source": [
        "samples.mean()"
      ]
    },
    {
      "cell_type": "code",
      "execution_count": null,
      "id": "a08cd37c-292f-46a8-af6d-2ebfc6b685b9",
      "metadata": {
        "trusted": true,
        "editable": false,
        "deletable": false
      },
      "outputs": [],
      "source": [
        "samples.var()"
      ]
    },
    {
      "cell_type": "markdown",
      "id": "5c49961d-06c0-42f1-b561-e2ac9123e2ac",
      "metadata": {
        "trusted": true,
        "editable": false,
        "deletable": false
      },
      "source": [
        "Notice how close these are to the true values $\\mu = 0$ and $\\sigma^2 = 1$!"
      ]
    },
    {
      "cell_type": "markdown",
      "id": "38817c1f-0709-4863-af29-eeb3509f5a45",
      "metadata": {
        "trusted": true,
        "editable": false,
        "deletable": false
      },
      "source": [
        "### Part 3: Questions"
      ]
    },
    {
      "cell_type": "markdown",
      "id": "c12e0774-ee54-4daa-8b74-1cd6eee5c059",
      "metadata": {
        "trusted": true,
        "editable": false,
        "deletable": false
      },
      "source": [
        "### Question 1:"
      ]
    },
    {
      "cell_type": "markdown",
      "id": "9917743e-e0ad-424b-a2d7-429de6e975f7",
      "metadata": {
        "trusted": true,
        "editable": false,
        "deletable": false
      },
      "source": [
        "\n",
        "Estimate a threshold $\\alpha$ for which $P(Z \\le \\alpha) = 0.80$\n",
        "\n"
      ]
    },
    {
      "cell_type": "code",
      "execution_count": null,
      "id": "95dd6b83-30e0-4574-903a-d7609c26f35a",
      "metadata": {
        "trusted": true,
        "editable": true,
        "deletable": false
      },
      "outputs": [],
      "source": [
        "# Put your answer to question 1 here\n",
        "\n",
        "\n",
        "\n",
        "alpha = ...\n",
        "print(alpha)"
      ]
    },
    {
      "cell_type": "markdown",
      "id": "3ba08f0b-493c-4baa-afc4-ff2bb99f61a2",
      "metadata": {
        "trusted": true,
        "editable": false,
        "deletable": false
      },
      "source": [
        "### Question 2:\n",
        "\n",
        "A standard rule of thumb is the [68-95-99.7](https://en.wikipedia.org/wiki/68\u201395\u201399.7_rule) rule, which refers to the probabilities of $P(-1 \\le Z \\le 1)$, $P(-2 \\le Z \\le 2)$, and $P(-3 \\le Z \\le 3)$ for a random variable $Z \\sim N(0, 1)$. \n",
        "\n",
        "Estimate these probabilities using scipy.stats.norm's cdf function."
      ]
    },
    {
      "cell_type": "code",
      "execution_count": null,
      "id": "1a4aafba-c349-455c-bd5b-61294106ec62",
      "metadata": {
        "trusted": true,
        "editable": true,
        "deletable": false
      },
      "outputs": [],
      "source": [
        "# Put your answer to question 2 here\n",
        "\n",
        "\n",
        "\n",
        "p1,p2,p3 = ..., ... , ...\n",
        "print(p1,p2,p3)"
      ]
    },
    {
      "cell_type": "markdown",
      "id": "5c8544f4-c4f8-4e1c-b34b-2a96a16fc467",
      "metadata": {
        "trusted": true,
        "editable": false,
        "deletable": false
      },
      "source": [
        "\n",
        "### Question 3:\n",
        "\n",
        "Many important distributions can be found by modifying the standard normal one. Two of these are the  [chi-squared distribution](https://en.wikipedia.org/wiki/Chi-squared_distribution) (which is the sum of squares of normally distributed random variables) and the [folded normal distribution](https://en.wikipedia.org/wiki/Folded_normal_distribution), which is the absolute value $|Z|$ of a normal random variable. **Estimates the means and variances** of these two distributions (the linked articles have the computed values if you'd like to compare!).\n"
      ]
    },
    {
      "cell_type": "code",
      "execution_count": null,
      "id": "a5da3cd0-a305-491a-a76f-c7bfe06fc7f3",
      "metadata": {
        "trusted": true,
        "editable": true,
        "deletable": false
      },
      "outputs": [],
      "source": [
        "# Put your answer to question 3 here\n",
        "\n",
        "\n",
        "\n",
        "mean_chi_squared = ...\n",
        "variance_chi_squared = ...\n",
        "print(mean_chi_squared)\n",
        "print(variance_chi_squared)"
      ]
    },
    {
      "cell_type": "markdown",
      "id": "1b242c62-b7e3-4c57-afd4-9c4e01ea45bb",
      "metadata": {
        "trusted": true,
        "editable": false,
        "deletable": false
      },
      "source": [
        "\n",
        "\n",
        "<h4> Submission instructions: </h4>\n",
        "\n",
        "When you've finished your notebook, **save and export it as a pdf** (this is an option under the `file` menu). Upload it to Gradescope under the assignment \"Weekly Jupyter 4.\" Do not submit any screenshots of your code."
      ]
    },
    {
      "cell_type": "code",
      "execution_count": null,
      "id": "fe1bcdf5-5674-4707-ba2b-98f419268007",
      "metadata": {},
      "outputs": [],
      "source": []
    }
  ],
  "metadata": {
    "kernelspec": {
      "display_name": "Python 3 (ipykernel)",
      "language": "python",
      "name": "python3"
    },
    "language_info": {
      "codemirror_mode": {
        "name": "ipython",
        "version": 3
      },
      "file_extension": ".py",
      "mimetype": "text/x-python",
      "name": "python",
      "nbconvert_exporter": "python",
      "pygments_lexer": "ipython3",
      "version": "3.11.4"
    }
  },
  "nbformat": 4,
  "nbformat_minor": 5
}