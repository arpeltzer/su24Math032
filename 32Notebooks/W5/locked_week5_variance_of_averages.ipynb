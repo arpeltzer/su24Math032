{
  "cells": [
    {
      "cell_type": "markdown",
      "id": "cc490196-5ff2-4da8-a485-1b94ee6d5966",
      "metadata": {
        "trusted": true,
        "editable": false,
        "deletable": false
      },
      "source": [
        "<h2> Long-term averages </h2>\n",
        "\n",
        "In this week's notebook, you'll explore data and understand how the averages tend towards their limits. We'll generate data from different distributions and see how it settles down towards a particular value over time, by repeatedly computing averages."
      ]
    },
    {
      "cell_type": "code",
      "execution_count": null,
      "id": "fd6a2fd2-eac6-4dd6-b45a-4cf122b91b98",
      "metadata": {
        "trusted": true,
        "editable": false,
        "deletable": false
      },
      "outputs": [],
      "source": [
        "# run this cell\n",
        "from numpy.random import uniform"
      ]
    },
    {
      "cell_type": "markdown",
      "id": "b3295603-3234-443b-89d1-9cf78e34ee4e",
      "metadata": {
        "trusted": true,
        "editable": false,
        "deletable": false
      },
      "source": [
        "<h3> Process </h3>\n",
        "\n",
        "The uniform distribution $\\operatorname{Unif}(0, 1)$ has mean $0.5$ and variance $0.25$; this is the distribution that numpy.random's `uniform()` function defaults to.\n",
        "\n",
        "Instead of generating just one random number, let's generate one hundred numbers and average them: this leads to a new random variable\n",
        "$$Y = \\frac{X_1 + X_2 + \\cdots + X_{100}}{100}.$$\n",
        "In this notebook, we'll explore what happens to the variation of $Y$ compared to the variation of $X$.\n"
      ]
    },
    {
      "cell_type": "code",
      "execution_count": null,
      "id": "8b118516-346a-45cb-96b0-76dfb4d65a17",
      "metadata": {
        "trusted": true,
        "editable": false,
        "deletable": false
      },
      "outputs": [],
      "source": [
        "samples = uniform(size = 100)\n",
        "Y = samples.mean()\n",
        "print(Y)"
      ]
    },
    {
      "cell_type": "markdown",
      "id": "3369fdb3-0e05-4ae4-a6d2-55d0c50f97ec",
      "metadata": {
        "trusted": true,
        "editable": false,
        "deletable": false
      },
      "source": [
        "\n",
        "<h4> Question 1 </h4>\n",
        "* (a) Convince yourself that the mean of $Y$ is $0.5$ by generating $10^5$ instances of $Y$ and check that the average is reasonably close to $0.5$.\n",
        "\n"
      ]
    },
    {
      "cell_type": "code",
      "execution_count": null,
      "id": "560593d1-e455-4c04-ac8d-46c2dfdf5099",
      "metadata": {
        "trusted": true,
        "editable": false,
        "deletable": false
      },
      "outputs": [],
      "source": [
        "# Question 1a answer:\n",
        "\n",
        "# Generate the 100000 samples of Y\n",
        "\n",
        "uniform_samples = uniform(size = (100,10**5))\n",
        "Y_samples = uniform_samples.mean(axis = 0)\n",
        "\n",
        "# Compute the mean of the samples of Y\n",
        "\n",
        "Y_samples.mean()\n"
      ]
    },
    {
      "cell_type": "markdown",
      "id": "56b41022-1794-4868-aa24-5f6220d9c969",
      "metadata": {
        "trusted": true,
        "editable": false,
        "deletable": false
      },
      "source": [
        "As we can see, the average of the samples is very close to $0.5$."
      ]
    },
    {
      "cell_type": "markdown",
      "id": "f7aaee51-99eb-4b70-ad06-751e5b70ea07",
      "metadata": {
        "trusted": true,
        "editable": false,
        "deletable": false
      },
      "source": [
        "* (b) Estimate the variance and standard deviation of $Y$; how do they compare to the variance and standard deviation of just one uniform random variable?"
      ]
    },
    {
      "cell_type": "code",
      "execution_count": null,
      "id": "fc51db0b-be8f-4d14-8773-a33a9dbc2bbf",
      "metadata": {
        "trusted": true,
        "editable": true,
        "deletable": false
      },
      "outputs": [],
      "source": [
        "# Put your answer to question 1b here\n",
        "\n",
        "\n"
      ]
    },
    {
      "cell_type": "markdown",
      "id": "9ef09724-60b0-493f-a152-bc6205986418",
      "metadata": {
        "trusted": true,
        "editable": false,
        "deletable": false
      },
      "source": [
        "* (c) If $X$ has the original $\\operatorname{Unif}(0, 1)$ distribution, then there is an $80\\%$ chance that $X$ differs from its mean by at least $0.1$: $$P(|X - 0.5| \\ge 0.1) = 80\\%.$$\n",
        "Estimate this quantity with $Y$ replacing $X$.\n"
      ]
    },
    {
      "cell_type": "code",
      "execution_count": null,
      "id": "d96081cd-98a8-4489-9efd-cda327f2529a",
      "metadata": {
        "trusted": true,
        "editable": false,
        "deletable": false
      },
      "outputs": [],
      "source": [
        "# Example for X\n",
        "\n",
        "X_samples = uniform(size = 1000)\n",
        "\n",
        "bool_array = abs(X_samples-0.5) >= 0.1\n",
        "\n",
        "print(bool_array.mean())"
      ]
    },
    {
      "cell_type": "code",
      "execution_count": null,
      "id": "bb5ec746-f9b7-46dd-bd7c-0896753adbd1",
      "metadata": {
        "trusted": true,
        "editable": true,
        "deletable": false
      },
      "outputs": [],
      "source": [
        "# Put your answer to question 1c here\n",
        "\n"
      ]
    },
    {
      "cell_type": "markdown",
      "id": "36eabcbd-2f4d-4ec2-b9eb-be46a6dad152",
      "metadata": {
        "trusted": true,
        "editable": false,
        "deletable": false
      },
      "source": [
        "<h4> Question 2 </h4>\n",
        "Repeat the previous part using data from an exponential distribution $\\operatorname{Exp}(0.5)$. This has mean $2$, variance $4$, and standard deviation $2$. \n",
        "\n",
        "Note that the third part has to be modified: If $X \\sim \\operatorname{Exp}(0.5)$ then $P(|X - 2| \\ge 0.1) \\approx 96.3\\%$ rather than $80\\%$. \n"
      ]
    },
    {
      "cell_type": "code",
      "execution_count": null,
      "id": "30735ed2-2812-4b00-98ba-b4111be335a8",
      "metadata": {
        "trusted": true,
        "editable": true,
        "deletable": false
      },
      "outputs": [],
      "source": [
        "# Put your answer to question 2a here\n",
        "\n",
        "\n"
      ]
    },
    {
      "cell_type": "code",
      "execution_count": null,
      "id": "35fd5cdc-d3b4-4ab9-8ed5-f1d555548dab",
      "metadata": {
        "trusted": true,
        "editable": true,
        "deletable": false
      },
      "outputs": [],
      "source": [
        "# Put your answer to question 2b here\n",
        "\n",
        "\n"
      ]
    },
    {
      "cell_type": "code",
      "execution_count": null,
      "id": "020ec003-b56b-4f56-b2fa-27338c0db199",
      "metadata": {
        "trusted": true,
        "editable": true,
        "deletable": false
      },
      "outputs": [],
      "source": [
        "# Put your answer to question 2c here\n",
        "\n",
        "\n"
      ]
    },
    {
      "cell_type": "markdown",
      "id": "9bc1c699-5286-4a96-af14-8688ad7dffa7",
      "metadata": {
        "trusted": true,
        "editable": false,
        "deletable": false
      },
      "source": [
        "### Submission \n",
        "\n",
        "When you are done, download this notebook (make sure it is in .ipynb format) and submit it to JupyterWeek5 on CatCourses."
      ]
    }
  ],
  "metadata": {
    "kernelspec": {
      "display_name": "Python 3 (ipykernel)",
      "language": "python",
      "name": "python3"
    },
    "language_info": {
      "codemirror_mode": {
        "name": "ipython",
        "version": 3
      },
      "file_extension": ".py",
      "mimetype": "text/x-python",
      "name": "python",
      "nbconvert_exporter": "python",
      "pygments_lexer": "ipython3",
      "version": "3.11.4"
    }
  },
  "nbformat": 4,
  "nbformat_minor": 5
}