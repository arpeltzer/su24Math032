{
 "cells": [
  {
   "cell_type": "markdown",
   "id": "35075e8a-b4f4-4393-b9d1-7b4fd4366fd3",
   "metadata": {},
   "source": [
    "<h2> Exploring the Central Limit Theorem </h2>\n",
    "\n",
    "In this notebook, we're going to explore the central limit theorem. The theorem says that as $N \\to \\infty$, an appropriately scaled average of $N$ IID random variables will converge to a normal distribution. A natural question that comes up is how large $N$ should be in order to use the central limit theorem accurately and efficiently: if $N$ is too small, then the limit is a bad approximation and if $N$ is too large, we require too much data to be practical.\n",
    "\n",
    "\n",
    "**Example**: If you are averaging 30 exponential random variables with distribution $\\operatorname{Exp}(1/10)$, you can approximate the average as $\\operatorname{N(10, 100/30)}.$ This is because the underlying distribution has mean $10$ and variance $100$; remember that the variance of the average is $\\sigma^2 / n$.\n",
    "\n",
    "We will directly simulate $P(\\overline{X}_{30} > 11)$ using samples by generating exponential random variables. The central limit theorem estimate tells us that $P(\\overline{X}_{30} > 11) \\approx 29\\%$, while using simulation we should find that $P(\\overline{X}_{30} > 14) \\approx 27\\%$ (using $10^5$ trials). The discrepancy here is due to the small sample size $n=30$. \n",
    "\n",
    "Although these numbers are on the same scale (each representing a fairly unlikely outcome that's not too extreme), they are still off by nearly $60\\%$. This is because $30$ is a small number of trials, and the central limit theorem improves as we take a larger number of trials."
   ]
  },
  {
   "cell_type": "code",
   "execution_count": null,
   "id": "177d83c5-74f9-4391-b26e-996598c3232d",
   "metadata": {},
   "outputs": [],
   "source": [
    "# just run me\n",
    "import numpy as np\n",
    "import matplotlib.pyplot as plt\n",
    "import seaborn as sns\n",
    "from scipy.stats import expon\n",
    "from scipy.stats import norm\n",
    "from numpy.random import exponential\n",
    "sns.set_style(\"darkgrid\")\n",
    "\n",
    "lamb = 1/10\n",
    "rv = exponential(scale = 1/lamb)"
   ]
  },
  {
   "cell_type": "markdown",
   "id": "1157b14c",
   "metadata": {},
   "source": [
    "Let's take a bunch of samples of $\\overline{X}_{30}$. We will store the samples in a large array that is $100000$ rows and $30$ columns (the dimensions of the array are $(100000,30)$, and we will take the average across each row. We'll use the keyword `'size'` to set the dimension."
   ]
  },
  {
   "cell_type": "code",
   "execution_count": null,
   "id": "2ba8b091",
   "metadata": {},
   "outputs": [],
   "source": [
    "# Specify the sample size n, and the number of simulations of Xbarn\n",
    "num_samples,n = 10**5,30\n",
    "ExpSamples = exponential(scale = 1/lamb, size = (num_samples,n)) \n",
    "Xbars = ExpSamples.mean(axis = 1)"
   ]
  },
  {
   "cell_type": "code",
   "execution_count": null,
   "id": "292d4186",
   "metadata": {
    "scrolled": true
   },
   "outputs": [],
   "source": [
    "# print the first ten samples of Xbar\n",
    "Xbars[:10]"
   ]
  },
  {
   "cell_type": "markdown",
   "id": "bef29a19",
   "metadata": {},
   "source": [
    "\n",
    "<h3> Examples </h3>\n",
    "\n",
    "\n",
    "* Let's verify the numbers above, that the probability that a average of $30$ IID $\\operatorname{Exp}(1/10)$ random variables will have probability around $0.27$ of being $\\ge 11$.\n"
   ]
  },
  {
   "cell_type": "code",
   "execution_count": null,
   "id": "7b53d6a2",
   "metadata": {},
   "outputs": [],
   "source": [
    "# Create a True/False array that is True if Xbar >= 11 and False otherwise\n",
    "BooleanArray = Xbars >= 11\n",
    "\n",
    "# print the first ten samples of this array\n",
    "BooleanArray[:10]"
   ]
  },
  {
   "cell_type": "code",
   "execution_count": null,
   "id": "da310200",
   "metadata": {},
   "outputs": [],
   "source": [
    "# compute the frequency at which True occurs\n",
    "BooleanArray.mean()"
   ]
  },
  {
   "cell_type": "markdown",
   "id": "1e9f733e",
   "metadata": {},
   "source": [
    "Now let's compare with the CLT approximation. For this, we will use a zscore function."
   ]
  },
  {
   "cell_type": "code",
   "execution_count": null,
   "id": "62f9015f",
   "metadata": {},
   "outputs": [],
   "source": [
    "def zScore(mu, var, observed, n):\n",
    "    # calculate the zscore of Xbar\n",
    "    return (observed - mu) / np.sqrt(var / n)\n",
    "\n",
    "mu = 1/lamb\n",
    "var = 1/lamb**2\n",
    "observed = 11\n",
    "n = 30\n",
    "\n",
    "z = zScore(mu,var,observed,n)\n",
    "print(\"z-score:\",z)"
   ]
  },
  {
   "cell_type": "code",
   "execution_count": null,
   "id": "1391fd55",
   "metadata": {},
   "outputs": [],
   "source": [
    "# print the CLT approximation\n",
    "approx = 1 - norm.cdf(z)\n",
    "print(\"CLT est:\",approx)"
   ]
  },
  {
   "cell_type": "markdown",
   "id": "930c5429",
   "metadata": {},
   "source": [
    "\n",
    "<h3> Question 1 </h3>\n",
    "\n",
    "\n",
    "* Simulate the probability that a average of $100$ IID $\\operatorname{Exp}(1/10)$ random variables is $\\ge 11$.\n"
   ]
  },
  {
   "cell_type": "code",
   "execution_count": null,
   "id": "1be6a779",
   "metadata": {},
   "outputs": [],
   "source": [
    "# Fill in the ... with your answer\n",
    "\n",
    "# Specify the sample size n and the number of simulations\n",
    "n = ...\n",
    "num_samples = ...\n",
    "\n",
    "\n",
    "ExpSamples = exponential(scale = 1/lamb, size = (...,...)) \n",
    "Xbars = ...\n",
    "\n",
    "BooleanArray = ...\n",
    "\n",
    "print(\"Simulated estimate P(Xbar >= 11): \", BooleanArray.mean())"
   ]
  },
  {
   "cell_type": "markdown",
   "id": "f4931d58",
   "metadata": {},
   "source": [
    "* Now compare your answer with the CLT approximation"
   ]
  },
  {
   "cell_type": "code",
   "execution_count": null,
   "id": "dd886c37",
   "metadata": {},
   "outputs": [],
   "source": [
    "# Fill in the ... with your answer\n",
    "\n",
    "\n",
    "mu = ...\n",
    "var = ...\n",
    "observed = ...\n",
    "n = ...\n",
    "\n",
    "z = ...\n",
    "\n",
    "# print the CLT approximation\n",
    "approx = ...\n",
    "print(\"Our CLT estimate is \",approx)"
   ]
  },
  {
   "cell_type": "markdown",
   "id": "e8dd7333",
   "metadata": {},
   "source": [
    "*  How does your answer compare to the probability for $n=30$ samples?"
   ]
  },
  {
   "cell_type": "code",
   "execution_count": null,
   "id": "9de348e4",
   "metadata": {},
   "outputs": [],
   "source": [
    "# Put your response in the following markdown cell"
   ]
  },
  {
   "cell_type": "markdown",
   "id": "6ff04936",
   "metadata": {},
   "source": [
    "_**Double-Click me!**_\n",
    "\n",
    "\n",
    "\n"
   ]
  },
  {
   "cell_type": "code",
   "execution_count": null,
   "id": "afcfd4ae",
   "metadata": {},
   "outputs": [],
   "source": [
    "# End Question 1"
   ]
  },
  {
   "cell_type": "markdown",
   "id": "4c374c08",
   "metadata": {},
   "source": [
    "<h3> Plotting </h3>\n",
    "\n",
    "A good way to  visualize what's going on is to plot the data. Run the following piece of code to get an idea of what's going on."
   ]
  },
  {
   "cell_type": "code",
   "execution_count": null,
   "id": "4dcd4810",
   "metadata": {},
   "outputs": [],
   "source": [
    "# Generate the exponential random variables\n",
    "scale = 10\n",
    "sample_size = 30\n",
    "num_samples = 10**5\n",
    "data = np.random.exponential(scale, size=(num_samples, sample_size))\n",
    "\n",
    "# Calculate the sample means\n",
    "sample_means = np.mean(data, axis=1)\n",
    "\n",
    "# Plot the histogram\n",
    "plt.figure(figsize=(8, 5))\n",
    "\n",
    "# Plot histogram with different colors for bars in the range 11 to 20\n",
    "sns.histplot(sample_means, bins=50, kde=True, color='skyblue')\n",
    "plt.axvspan(11, 20, color='lightcoral', alpha=0.5)\n",
    "\n",
    "# Plot the normal approximation curve\n",
    "mu = np.mean(sample_means)\n",
    "sigma = np.std(sample_means)\n",
    "x = np.linspace(0, 30, 1000)\n",
    "y = norm.pdf(x, mu, sigma) * (max(sample_means) - min(sample_means)) / 50\n",
    "plt.plot(x, y, 'k--', label='Normal Approximation')\n",
    "\n",
    "# Calculate and plot the frequency of being bigger than 11 for Xbar\n",
    "freq_greater_than_11 = np.mean(sample_means > 11)\n",
    "plt.text(15, 1000, str(round(100*freq_greater_than_11,2))+\"%\", fontsize=12)\n",
    "\n",
    "plt.xlabel('Sample Mean (Xbar)')\n",
    "plt.ylabel('Frequency')\n",
    "plt.title('Histogram of Sample Means with Normal Approximation')\n",
    "plt.legend()\n",
    "plt.show()"
   ]
  },
  {
   "cell_type": "markdown",
   "id": "46843ca3",
   "metadata": {},
   "source": [
    "<h3> Question 2 </h3>\n",
    "\n",
    "* Can you adjust the code above to plot a similar plot with a sample size of $n=100$?"
   ]
  },
  {
   "cell_type": "code",
   "execution_count": null,
   "id": "4c854e80",
   "metadata": {},
   "outputs": [],
   "source": [
    "# Put your code for Question 2 here\n",
    "\n",
    "\n",
    "\n",
    "\n",
    "\n",
    "\n",
    "\n",
    "\n",
    "\n"
   ]
  },
  {
   "cell_type": "markdown",
   "id": "9f38c8bb",
   "metadata": {},
   "source": [
    "* What do you notice about the differences between the two graphs?"
   ]
  },
  {
   "cell_type": "code",
   "execution_count": null,
   "id": "e2b7d139",
   "metadata": {},
   "outputs": [],
   "source": [
    "# Put your response in the following markdown cell"
   ]
  },
  {
   "cell_type": "markdown",
   "id": "bb0b360d",
   "metadata": {},
   "source": [
    "_**Double-Click me!**_\n",
    "\n",
    "\n",
    "\n"
   ]
  },
  {
   "cell_type": "code",
   "execution_count": null,
   "id": "d8546251",
   "metadata": {},
   "outputs": [],
   "source": [
    "# End Question 3"
   ]
  },
  {
   "cell_type": "markdown",
   "id": "34896ec4",
   "metadata": {},
   "source": [
    "<h3> Submission </h3>\n",
    "\n",
    "Once you've finished modifying your notebook and answering the questions, you'll need to submit it to Canvas. To do this, generate a .ipynb file (default for notebooks) by clicking `File -> Download as... -> Notebook (.ipynb)`. Then upload it to CatCourses under the appropriate assignment. As always -- if you have any questions or run into any issues you can\n",
    "* ask during discussion,\n",
    "* email your TA or instructor,\n",
    "* or bring them to office hours!"
   ]
  },
  {
   "cell_type": "code",
   "execution_count": null,
   "id": "9c4669df",
   "metadata": {},
   "outputs": [],
   "source": []
  }
 ],
 "metadata": {
  "kernelspec": {
   "display_name": "Python 3 (ipykernel)",
   "language": "python",
   "name": "python3"
  },
  "language_info": {
   "codemirror_mode": {
    "name": "ipython",
    "version": 3
   },
   "file_extension": ".py",
   "mimetype": "text/x-python",
   "name": "python",
   "nbconvert_exporter": "python",
   "pygments_lexer": "ipython3",
   "version": "3.11.4"
  }
 },
 "nbformat": 4,
 "nbformat_minor": 5
}
