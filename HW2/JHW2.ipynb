{
 "cells": [
  {
   "cell_type": "code",
   "execution_count": 1,
   "id": "53415a77",
   "metadata": {
    "deletable": false,
    "editable": false
   },
   "outputs": [],
   "source": [
    "# Initialize Otter\n",
    "import otter\n",
    "grader = otter.Notebook(\"JHW2.ipynb\")"
   ]
  },
  {
   "cell_type": "markdown",
   "id": "d98d5624-b39a-4b89-a0ba-b176b0b1e40e",
   "metadata": {},
   "source": [
    "<h2> Jupyter Homework Week 2 </h2>\n",
    "\n",
    "### Simulation\n",
    "\n",
    "<img src=\"images/dice.jpg\" style=\"float: right; width: 12%\">\n",
    "\n",
    "One of the most powerful tools we have in understanding probability is to *simulate* an experiment many times; this gives us a lot of information about the long-term behavior of a model.\n",
    "\n",
    "In this notebook, we'll explore how we can simulate dice rolls using Python and generate and analyze random data for this purpose. The code blocks below will simulate throwing multiple dice, recording their outcomes, and doing computations with them."
   ]
  },
  {
   "cell_type": "markdown",
   "id": "990cbb4d-8680-4425-86c3-2268fe4f060f",
   "metadata": {},
   "source": [
    "Let's make a function that simulates _many_ (any amount we want) rolls of one die. We'll use [**numpy**](https://numpy.org)'s package [np.random](https://numpy.org/doc/stable/reference/random/index.html), which is used for **random sampling**. We will use this package extensively in this class. This is a python package that will help us simulate random variables."
   ]
  },
  {
   "cell_type": "code",
   "execution_count": 13,
   "id": "d2252078-3bbf-417d-833e-143d7ca82c79",
   "metadata": {},
   "outputs": [],
   "source": [
    "# just run me\n",
    "import numpy as np"
   ]
  },
  {
   "cell_type": "code",
   "execution_count": 14,
   "id": "5e5a3078-f0ae-4a92-9302-6c948810cd5f",
   "metadata": {
    "tags": []
   },
   "outputs": [],
   "source": [
    "def roll_die(num_sides,num_trials):\n",
    "    simulated_rolls = np.random.randint(low = 1, high = num_sides+1, size = num_trials)\n",
    "    return simulated_rolls"
   ]
  },
  {
   "cell_type": "markdown",
   "id": "0d6b20ae-4a3d-4825-b7c9-0bde28f305a1",
   "metadata": {},
   "source": [
    "We're now going to roll the die ten times."
   ]
  },
  {
   "cell_type": "code",
   "execution_count": 15,
   "id": "e34af8bd-c3ff-45f8-8529-606f6403334b",
   "metadata": {},
   "outputs": [
    {
     "name": "stdout",
     "output_type": "stream",
     "text": [
      "[3 2 5 2 6 2 4 3 5 5]\n"
     ]
    }
   ],
   "source": [
    "# set the number of trials and sides\n",
    "num_trials = 10\n",
    "num_sides =  6\n",
    "\n",
    "# simulate\n",
    "results = roll_die(num_sides,num_trials)\n",
    "\n",
    "print(results)"
   ]
  },
  {
   "cell_type": "markdown",
   "id": "fb937b05-fcc0-4589-82a1-c1c237e3fd21",
   "metadata": {},
   "source": [
    "Now suppose we want to roll **two** dice, *add their rolls*, and count how many times their sum is eight. Let's also do $10,000$ experiments."
   ]
  },
  {
   "cell_type": "code",
   "execution_count": 22,
   "id": "2877d5f7-3506-4432-8834-3b7c9727f053",
   "metadata": {
    "tags": []
   },
   "outputs": [
    {
     "name": "stdout",
     "output_type": "stream",
     "text": [
      "The dice added to 8 in  1375  trials out of  10000\n"
     ]
    }
   ],
   "source": [
    "num_trials = 10000\n",
    "num_sides =  6\n",
    "\n",
    "# simulate each die's rolls\n",
    "first_die = roll_die(num_sides,num_trials)\n",
    "second_die = roll_die(num_sides,num_trials)\n",
    "\n",
    "# add the two vectors\n",
    "sum_of_dice = first_die+second_die\n",
    "\n",
    "# count the number of times the sum is equal to 8\n",
    "num = (sum_of_dice == 8).sum()\n",
    "\n",
    "print('The dice added to 8 in ',num,' trials out of ',num_trials)"
   ]
  },
  {
   "cell_type": "markdown",
   "id": "f00e8467-367d-43ef-903f-1be9cfa66745",
   "metadata": {},
   "source": [
    "## Explaining the code\n",
    "\n",
    "To be clear as to what's going on, let's look more closely at the variables we've created."
   ]
  },
  {
   "cell_type": "code",
   "execution_count": 23,
   "id": "9c3eab9f-e896-4f25-8f70-7b6cabc6473d",
   "metadata": {},
   "outputs": [
    {
     "data": {
      "text/plain": [
       "array([1, 6, 6, 6, 3])"
      ]
     },
     "execution_count": 23,
     "metadata": {},
     "output_type": "execute_result"
    }
   ],
   "source": [
    "first_die[:5] # first 5 rolls of die 1"
   ]
  },
  {
   "cell_type": "code",
   "execution_count": 24,
   "id": "33a21168-239d-444f-8e53-f30a23a74f7a",
   "metadata": {},
   "outputs": [
    {
     "data": {
      "text/plain": [
       "array([4, 4, 1, 2, 3])"
      ]
     },
     "execution_count": 24,
     "metadata": {},
     "output_type": "execute_result"
    }
   ],
   "source": [
    "second_die[:5] # first 5 rolls of die 2"
   ]
  },
  {
   "cell_type": "code",
   "execution_count": 25,
   "id": "57bc8943-7d37-4baa-9564-17726c7277f0",
   "metadata": {},
   "outputs": [
    {
     "data": {
      "text/plain": [
       "array([ 5, 10,  7,  8,  6])"
      ]
     },
     "execution_count": 25,
     "metadata": {},
     "output_type": "execute_result"
    }
   ],
   "source": [
    "sum_of_dice[:5] # sum of first five rolls"
   ]
  },
  {
   "cell_type": "markdown",
   "id": "561442ae-a05a-42fd-9c86-353ee3b6b194",
   "metadata": {},
   "source": [
    "Notice that the **sum_of_dice** is the *entry-by-entry* sum of the **first_die** and **second_die** combined. Now let's check how often the sum is equal to **8**."
   ]
  },
  {
   "cell_type": "code",
   "execution_count": 26,
   "id": "a1f8ba18-d034-4b45-9be6-f735ed3f3b12",
   "metadata": {},
   "outputs": [
    {
     "data": {
      "text/plain": [
       "array([False, False, False,  True, False])"
      ]
     },
     "execution_count": 26,
     "metadata": {},
     "output_type": "execute_result"
    }
   ],
   "source": [
    "# check each entry if it is equal to 8\n",
    "(sum_of_dice == 8)[:5]"
   ]
  },
  {
   "cell_type": "markdown",
   "id": "71250241-c05a-4f61-b8f3-a0d27469a32f",
   "metadata": {},
   "source": [
    "The above creates what is called a boolean array. This is an array, or vector, of *True* or *False* variables (in our case, *True* means the sum was 8, and *False* means the sum was not 8). If we use the **.sum()** method on this array, we get the total amount of times we rolled an 8."
   ]
  },
  {
   "cell_type": "code",
   "execution_count": 27,
   "id": "f30859c1-d7f7-42ea-a822-b4041583a90b",
   "metadata": {},
   "outputs": [
    {
     "data": {
      "text/plain": [
       "1"
      ]
     },
     "execution_count": 27,
     "metadata": {},
     "output_type": "execute_result"
    }
   ],
   "source": [
    "# count the number of times it is equal to 8\n",
    "(sum_of_dice == 8)[:5].sum()"
   ]
  },
  {
   "cell_type": "markdown",
   "id": "ef7da276-2ee3-4970-ac2f-c737515856d1",
   "metadata": {},
   "source": [
    "## Making this into a function"
   ]
  },
  {
   "cell_type": "markdown",
   "id": "4be5433f-63ef-4319-bfdc-30ea1c2877e2",
   "metadata": {},
   "source": [
    "We can make the above into our own function, so we can use it again."
   ]
  },
  {
   "cell_type": "code",
   "execution_count": 28,
   "id": "d4067be6-f165-4260-ac99-6fe4a79c37d8",
   "metadata": {},
   "outputs": [],
   "source": [
    "def calculate_frequency(num_sides,num_trials,r):\n",
    "    \n",
    "    # simulate each die's rolls\n",
    "    first_die = roll_die(num_sides,num_trials)\n",
    "    second_die = roll_die(num_sides,num_trials)\n",
    "    \n",
    "    # add the two vectors\n",
    "    sum_of_dice = first_die+second_die\n",
    "    \n",
    "    # calculate the frequency at which the sum is equal to r\n",
    "    freq = (sum_of_dice == r).mean()\n",
    "\n",
    "    return freq\n"
   ]
  },
  {
   "cell_type": "markdown",
   "id": "b6e5ab1b-8ab0-493e-b8be-e1299cb7f272",
   "metadata": {},
   "source": [
    "## Analyzing our results"
   ]
  },
  {
   "cell_type": "markdown",
   "id": "2916163a-3abc-4e23-9cb1-7b76a4a44044",
   "metadata": {},
   "source": [
    "Running $10000$ trials, I had $1384$ successes -- meaning that the probability of the two dice adding to $8$ is about $0.1384$. On the other hand, using the ideas from class, there are $5$ possible dice rolls out of the $36$ total which have a sum of $5$ (2-6, 3-5, 4-4, 5-3, and 6-2). This leads to a probability of $5/36 \\approx 0.139$; so our simulation was only about $.0006$ off from the truth. This is pretty great!"
   ]
  },
  {
   "cell_type": "markdown",
   "id": "f78251cd-5eba-4204-a6a8-700ca1652999",
   "metadata": {},
   "source": [
    "We can build a more elaborate table that counts the frequency of *all possible sums*."
   ]
  },
  {
   "cell_type": "code",
   "execution_count": 29,
   "id": "a357e1ae-6d10-42e0-b3d6-f4128fda83c9",
   "metadata": {},
   "outputs": [
    {
     "name": "stdout",
     "output_type": "stream",
     "text": [
      "Probability of summing to  2  =  0.024\n",
      "Probability of summing to  3  =  0.057\n",
      "Probability of summing to  4  =  0.079\n",
      "Probability of summing to  5  =  0.109\n",
      "Probability of summing to  6  =  0.147\n",
      "Probability of summing to  7  =  0.154\n",
      "Probability of summing to  8  =  0.157\n",
      "Probability of summing to  9  =  0.117\n",
      "Probability of summing to  10  =  0.097\n",
      "Probability of summing to  11  =  0.062\n",
      "Probability of summing to  12  =  0.034\n"
     ]
    }
   ],
   "source": [
    "num_trials = 1000\n",
    "num_sides = 6\n",
    "for r in range(2, 13):\n",
    "    frequency = calculate_frequency(num_sides,num_trials,r)\n",
    "    print(f'Probability of summing to ', r,' = ', frequency)"
   ]
  },
  {
   "cell_type": "markdown",
   "id": "dc80ab03-8de6-4327-b6d9-cfb789a61845",
   "metadata": {},
   "source": [
    "Based on this, the most likely outcomes were $6, 7, $ and $8$. We would need to do more trials to get more certainty -- this is a pretty small simulation!\n",
    "\n",
    "<h3> Questions </h3>\n",
    "\n",
    "\n",
    "### Question 1\n",
    "\n",
    "If you have *three six-sided dice*, use a simulation to estimate the probability the sum would equal 7."
   ]
  },
  {
   "cell_type": "markdown",
   "id": "2ba9c214",
   "metadata": {
    "deletable": false,
    "editable": false
   },
   "source": [
    "<!-- BEGIN QUESTION -->\n",
    "\n"
   ]
  },
  {
   "cell_type": "code",
   "execution_count": 34,
   "id": "11909484",
   "metadata": {
    "tags": []
   },
   "outputs": [],
   "source": [
    "# Fill in the ... with your answers\n",
    "\n",
    "def sum_of_seven(num_trials):\n",
    "    \"\"\"Count the number of times the sum of three dice rolls equals 7\"\"\"\n",
    "    num_sides = 6 # SOLUTION\n",
    "    first_die = roll_die(num_sides,num_trials) # SOLUTION\n",
    "    second_die = roll_die(num_sides,num_trials) # SOLUTION\n",
    "    third_die = roll_die(num_sides,num_trials) # SOLUTION\n",
    "    sum_of_dice = first_die+second_die+third_die # SOLUTION\n",
    "    frequency_equal_to_seven = (sum_of_dice ==7).mean() # SOLUTION\n",
    "    return frequency_equal_to_seven"
   ]
  },
  {
   "cell_type": "code",
   "execution_count": 33,
   "id": "c4da9258",
   "metadata": {
    "deletable": false,
    "editable": false
   },
   "outputs": [
    {
     "data": {
      "text/html": [
       "<p><strong><pre style='display: inline;'>q1</pre></strong> passed! 🚀</p>"
      ],
      "text/plain": [
       "q1 results: All test cases passed!"
      ]
     },
     "execution_count": 33,
     "metadata": {},
     "output_type": "execute_result"
    }
   ],
   "source": [
    "grader.check(\"q1\")"
   ]
  },
  {
   "cell_type": "markdown",
   "id": "efcae160",
   "metadata": {
    "deletable": false,
    "editable": false
   },
   "source": [
    "<!-- END QUESTION -->\n",
    "\n",
    "\n",
    "### Question 2\n",
    "\n",
    "What is/are the most common sum(s) of the three six sided dice?\n"
   ]
  },
  {
   "cell_type": "markdown",
   "id": "d9a355c3",
   "metadata": {
    "deletable": false,
    "editable": false
   },
   "source": [
    "<!-- BEGIN QUESTION -->\n",
    "\n"
   ]
  },
  {
   "cell_type": "code",
   "execution_count": null,
   "id": "827f2013-545f-4ba4-8c40-f210d4d8dd65",
   "metadata": {
    "tags": []
   },
   "outputs": [],
   "source": [
    "# Fill in the ... with your answer\n",
    "most_common_sum = ..."
   ]
  },
  {
   "cell_type": "code",
   "execution_count": null,
   "id": "f57b356d",
   "metadata": {
    "deletable": false,
    "editable": false
   },
   "outputs": [],
   "source": [
    "grader.check(\"q2\")"
   ]
  },
  {
   "cell_type": "markdown",
   "id": "9919d357",
   "metadata": {
    "deletable": false,
    "editable": false
   },
   "source": [
    "<!-- END QUESTION -->\n",
    "\n",
    "### Question 3\n",
    "\n",
    "Let's change the experiment: roll two dice and multiply their values instead of adding. Make a table of the probabilities for each outcome in $\\{1, 2, ..., 36\\}$."
   ]
  },
  {
   "cell_type": "markdown",
   "id": "d525733c",
   "metadata": {
    "deletable": false,
    "editable": false
   },
   "source": [
    "<!-- BEGIN QUESTION -->\n",
    "\n"
   ]
  },
  {
   "cell_type": "code",
   "execution_count": null,
   "id": "e77b8a41",
   "metadata": {
    "tags": []
   },
   "outputs": [],
   "source": [
    "# Fill in the ... with your answers\n",
    "\n",
    "def simulate_product(num_sides,num_trials):\n",
    "    \"\"\"Return an array of simulations of the product of two dice rolls\"\"\"\n",
    "    first_die = ...\n",
    "    second_die = ...\n",
    "    product = ...\n",
    "    return product\n",
    "\n",
    "\n",
    "product_of_dice = simulate_product(6,10000)\n",
    "for r in range(1, 37):\n",
    "    frequency = (product_of_dice == r).mean()\n",
    "    print(f'Probability of summing to ', r,' = ', frequency)"
   ]
  },
  {
   "cell_type": "code",
   "execution_count": null,
   "id": "aa89a833",
   "metadata": {
    "deletable": false,
    "editable": false
   },
   "outputs": [],
   "source": [
    "grader.check(\"q3\")"
   ]
  },
  {
   "cell_type": "markdown",
   "id": "49a9cc50",
   "metadata": {
    "deletable": false,
    "editable": false
   },
   "source": [
    "<!-- END QUESTION -->\n",
    "\n"
   ]
  },
  {
   "cell_type": "code",
   "execution_count": null,
   "id": "b6794448-a577-4525-af84-2ec54b24b5b9",
   "metadata": {},
   "outputs": [],
   "source": []
  },
  {
   "cell_type": "markdown",
   "id": "1bba9d66",
   "metadata": {
    "deletable": false,
    "editable": false
   },
   "source": [
    "## Submission\n",
    "\n",
    "Make sure you have run all cells in your notebook in order before running the cell below, so that all images/graphs appear in the output. The cell below will generate a zip file for you to submit. **Please save before exporting!**"
   ]
  },
  {
   "cell_type": "code",
   "execution_count": null,
   "id": "d93902a7",
   "metadata": {
    "deletable": false,
    "editable": false
   },
   "outputs": [],
   "source": [
    "# Save your notebook first, then run this cell to export your submission.\n",
    "grader.export(run_tests=True)"
   ]
  },
  {
   "cell_type": "markdown",
   "id": "8ed4bd72",
   "metadata": {},
   "source": [
    " "
   ]
  }
 ],
 "metadata": {
  "kernelspec": {
   "display_name": "Python 3 (ipykernel)",
   "language": "python",
   "name": "python3"
  },
  "language_info": {
   "codemirror_mode": {
    "name": "ipython",
    "version": 3
   },
   "file_extension": ".py",
   "mimetype": "text/x-python",
   "name": "python",
   "nbconvert_exporter": "python",
   "pygments_lexer": "ipython3",
   "version": "3.11.5"
  },
  "otter": {
   "OK_FORMAT": true,
   "tests": {
    "q1": {
     "name": "q1",
     "points": 5,
     "suites": [
      {
       "cases": [
        {
         "code": ">>> def test_low_trials(sum_of_seven):\n...     assert abs(sum_of_seven(1000) - 12 / 216) < 0.3\n...     assert abs(sum_of_seven(10000) - 12 / 216) < 0.2\n>>> test_low_trials(sum_of_seven)\n",
         "hidden": false,
         "locked": false
        }
       ],
       "scored": true,
       "setup": "",
       "teardown": "",
       "type": "doctest"
      }
     ]
    },
    "q2": {
     "name": "q2",
     "points": 3,
     "suites": [
      {
       "cases": [
        {
         "code": ">>> assert most_common_sum in [10, 11, 10.0, 11.0]\n",
         "hidden": false,
         "locked": false
        }
       ],
       "scored": true,
       "setup": "",
       "teardown": "",
       "type": "doctest"
      }
     ]
    },
    "q3": {
     "name": "q3",
     "points": 5,
     "suites": [
      {
       "cases": [
        {
         "code": ">>> true_probabilities = {1: 0.02778, 2: 0.05556, 3: 0.05556, 4: 0.08333, 5: 0.05556, 6: 0.11111, 8: 0.05556, 10: 0.05556, 12: 0.11111, 9: 0.02778, 15: 0.05556, 18: 0.05556, 16: 0.02778, 20: 0.05556, 24: 0.05556, 25: 0.02778, 30: 0.05556, 36: 0.02778}\n>>> \n>>> def test_product(simulate_product):\n...     product_of_dice = simulate_product(6, 10000)\n...     error = 0\n...     for r in true_probabilities.keys():\n...         frequency = (product_of_dice == r).mean()\n...         error += abs(frequency - true_probabilities[r])\n...     assert error < 2\n>>> test_product(simulate_product)\n",
         "hidden": false,
         "locked": false
        }
       ],
       "scored": true,
       "setup": "",
       "teardown": "",
       "type": "doctest"
      }
     ]
    }
   }
  }
 },
 "nbformat": 4,
 "nbformat_minor": 5
}
