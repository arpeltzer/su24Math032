{
 "cells": [
  {
   "cell_type": "code",
   "execution_count": null,
   "id": "7b7a0ee3",
   "metadata": {
    "deletable": false,
    "editable": false
   },
   "outputs": [],
   "source": [
    "# Initialize Otter\n",
    "import otter\n",
    "grader = otter.Notebook(\"JHW3.ipynb\")"
   ]
  },
  {
   "cell_type": "markdown",
   "id": "abcb9d57-59d8-4cac-bee4-1b0fe937fa79",
   "metadata": {},
   "source": [
    "<img src=\"images/flips.jpg\" style=\"float: right; width: 30%\">\n",
    "\n",
    "<h1> Jupyter Homework Week 3 --- Math 32, Summer 2024 </h1>\n",
    "\n",
    "\n",
    "<h2> The Binomial and Geometric Disributions </h2>\n"
   ]
  },
  {
   "cell_type": "markdown",
   "id": "45abdc0d-f5f5-461f-ae16-9bf1aab29b05",
   "metadata": {},
   "source": [
    "In this notebook, we'll use some readily-available packages that will help us calculate probabilities of the [binomial distribution](https://en.wikipedia.org/wiki/Binomial_distribution), and also sample from the [geometric distribution](https://en.wikipedia.org/wiki/Geometric_distribution). We'll use our sampling of the geometric distribution to approximate an answer to a question in your textbook (exercise **4.12** in *Dekking, et al*). "
   ]
  },
  {
   "cell_type": "code",
   "execution_count": null,
   "id": "64b00937-59eb-46fb-a88f-42c6a6c41347",
   "metadata": {},
   "outputs": [],
   "source": [
    "# import the requisite packages\n",
    "from scipy.stats import binom\n",
    "from scipy.stats import geom\n",
    "import numpy as np\n",
    "import scipy"
   ]
  },
  {
   "cell_type": "markdown",
   "id": "f264fc7f",
   "metadata": {},
   "source": [
    "<h3> Binomial distributions </h3>"
   ]
  },
  {
   "cell_type": "markdown",
   "id": "8ce94788-0008-41bd-9354-417c3117f95b",
   "metadata": {},
   "source": [
    "<h4> Part 1: Getting a sense of the binomial distribution </h4>\n",
    "\n",
    "The binomial distribution has probability mass function\n",
    "\n",
    "\n",
    "$$p(k) = \\binom{n}{k} p^k (1 - p)^{n - k} \\ \\ \\ \\ \\ $$ for $k=0,1,...,n$\n",
    "\n",
    "We have seen in class how this distribution models the *number of successes* in a sequence of $n$ independent and identically distributed trials, with probability of success $p$. We can get the values of it's pmf and cdf using [scipy.stats.binom](https://docs.scipy.org/doc/scipy/reference/generated/scipy.stats.binom.html), an object from scipy's package of statistical functions."
   ]
  },
  {
   "cell_type": "code",
   "execution_count": null,
   "id": "e361e8c4",
   "metadata": {
    "scrolled": true
   },
   "outputs": [],
   "source": [
    "# example usage of binom\n",
    "k = 1\n",
    "n = 10\n",
    "p = 0.2\n",
    "print(\"n =\",n,\"p =\",p)\n",
    "print(\"Probability of exactly one success:\", binom.pmf(k,n,p))"
   ]
  },
  {
   "cell_type": "code",
   "execution_count": null,
   "id": "00af15c1-5738-4ce9-be68-173beb091c06",
   "metadata": {},
   "outputs": [],
   "source": [
    "print(\"Probability of at least one success: \",binom.pmf(0,n,p)+binom.pmf(1,n,p))\n",
    "print(\"Using the cdf function also works:   \",binom.cdf(1,n,p))"
   ]
  },
  {
   "cell_type": "markdown",
   "id": "ee5847f1-0609-4cfc-bd37-df7a8e84cfde",
   "metadata": {},
   "source": [
    "## Question 1: \n",
    "\n",
    "- Suppose you flip a fair ($p = 0.5$) coin $100$ times. How likely is it that you'll see exactly $50$ heads? What is the probability that you'll see between $45$ and $55$ heads (including $45$ and $55$)?\n",
    "\n",
    "Hint: Use `binom` function as in the above example"
   ]
  },
  {
   "cell_type": "markdown",
   "id": "7a12426b",
   "metadata": {
    "deletable": false,
    "editable": false
   },
   "source": [
    "<!-- BEGIN QUESTION -->\n",
    "\n"
   ]
  },
  {
   "cell_type": "code",
   "execution_count": null,
   "id": "3995bdeb",
   "metadata": {
    "tags": []
   },
   "outputs": [],
   "source": [
    "# Fill in the ... with your answer\n",
    "\n",
    "n= ...\n",
    "p = ...\n",
    "probability_exactly_50 = ...\n",
    "\n",
    "\n",
    "probability_between_45_and_55 = ...\n",
    "\n",
    "print(probability_exactly_50)\n",
    "print(probability_between_45_and_55)"
   ]
  },
  {
   "cell_type": "code",
   "execution_count": null,
   "id": "c0617cb4",
   "metadata": {
    "deletable": false,
    "editable": false
   },
   "outputs": [],
   "source": [
    "grader.check(\"q1\")"
   ]
  },
  {
   "cell_type": "markdown",
   "id": "ff593c4c-2b8d-4d65-9d35-42e9ac8605d2",
   "metadata": {
    "deletable": false,
    "editable": false
   },
   "source": [
    "<!-- END QUESTION -->\n",
    "\n",
    "<h3> Geometric distribution </h3>"
   ]
  },
  {
   "cell_type": "markdown",
   "id": "9b153520-b12e-4052-af19-4b4272eaa441",
   "metadata": {},
   "source": [
    "<h4> Part 2: Getting a sense of the geometric distribution </h4>\n",
    "\n",
    "The geometric distribution has the probability mass function\n",
    "\n",
    "\n",
    "$$P(X = k) = (1 - p)^{k - 1}p \\ \\ \\ \\ \\  \\ \\ \\ \\ \\ \\ \\ \\ \\ \\ k=1,2,...$$\n",
    "\n",
    "We have seen in class how this distribution models the *time of the first success* in a sequence of independent and identically distributed trials. For example, suppose we flip a coin until we get our first *Heads*. If the sequence is\n",
    "\n",
    "$$TTTH,$$\n",
    "\n",
    "then $X=4$ since it took *four total flips* to get our first *Heads*. If the experiment results instead in \n",
    "\n",
    "$$TTTTH,$$\n",
    "\n",
    "then $X = 5$.\n",
    "\n",
    "\n",
    "We can **sample** from the distribution using numpy's `np.random.geometric` function, which you can read about [in the documentation](https://numpy.org/doc/stable/reference/random/generated/numpy.random.geometric.html)."
   ]
  },
  {
   "cell_type": "markdown",
   "id": "0943c91a-4d02-40b0-b016-a09048fbc8df",
   "metadata": {},
   "source": [
    "### Question 2:"
   ]
  },
  {
   "cell_type": "markdown",
   "id": "8adbf9ed-4b89-4652-9d18-ae0e2864a529",
   "metadata": {},
   "source": [
    "In this part of the weekly notebook, you'll use simulation to answer a problem from the textbook (Exercise 4.12):\n",
    "\n",
    "> You and a friend want to go to a concert, but unfortunately only one ticket is still available. The man who sells the tickets decides to toss a coin until heads appears. In each toss heads appears with probability $p$, where $0 < p < 1$, independent of each of the previous tosses. If the number of tosses needed is odd, your friend is allowed to buy the ticket; otherwise you can buy it. Would you agree to this arrangement?"
   ]
  },
  {
   "cell_type": "markdown",
   "id": "cbba64e3-69e7-42e5-b0de-acf6d2f46449",
   "metadata": {},
   "source": [
    "Your goal is to \n",
    "\n",
    "- Sample a large number of times from the geometric distribution using `np.random.geometric`.\n",
    "- Record the number of times the count is *even* using `even_count`.\n",
    "- Store the frequency of *even* in the variable `probability_even_tosses`, this should estimate the probability of observing an even number of tosses.\n",
    "\n",
    "The function should take two parameters: the probability of success `p` and the number of simulations `num_simulations`."
   ]
  },
  {
   "cell_type": "code",
   "execution_count": null,
   "id": "c54c4332-5781-4f9c-bc55-81d159e4b139",
   "metadata": {
    "tags": []
   },
   "outputs": [],
   "source": [
    "def probability_even_tosses(p, num_simulations=10000):\n",
    "    \"\"\"\n",
    "    Calculate the probability of observing an even number of tosses\n",
    "    using the np.random.geometric function.\n",
    "    Parameters:\n",
    "    - p: Probability of success (getting heads) in each toss.\n",
    "    - num_simulations: Number of simulations to run (default is 10,000).\n",
    "    Returns:\n",
    "    - Probability of observing an even number of tosses.\n",
    "    \"\"\"\n",
    "    \n",
    "    even_count = ...\n",
    "    for _ in range(num_simulations):\n",
    "        # Generate the number of tosses to get the first success\n",
    "        num_tosses = ...\n",
    "        # Check if the number of tosses is even\n",
    "        ...\n",
    "            ...\n",
    "    # Calculate the frequency of observing an even number of tosses\n",
    "    frequency = ...\n",
    "    return frequency\n",
    "  "
   ]
  },
  {
   "cell_type": "code",
   "execution_count": null,
   "id": "28d65af5",
   "metadata": {
    "deletable": false,
    "editable": false
   },
   "outputs": [],
   "source": [
    "grader.check(\"q2\")"
   ]
  },
  {
   "cell_type": "markdown",
   "id": "1b2c1442",
   "metadata": {
    "deletable": false,
    "editable": false
   },
   "source": [
    "## Submission\n",
    "\n",
    "Make sure you have run all cells in your notebook in order before running the cell below, so that all images/graphs appear in the output. The cell below will generate a zip file for you to submit. **Please save before exporting!**"
   ]
  },
  {
   "cell_type": "code",
   "execution_count": null,
   "id": "4404e27b",
   "metadata": {
    "deletable": false,
    "editable": false
   },
   "outputs": [],
   "source": [
    "# Save your notebook first, then run this cell to export your submission.\n",
    "grader.export(run_tests=True)"
   ]
  },
  {
   "cell_type": "markdown",
   "id": "67774cff",
   "metadata": {},
   "source": [
    " "
   ]
  }
 ],
 "metadata": {
  "kernelspec": {
   "display_name": "Python 3 (ipykernel)",
   "language": "python",
   "name": "python3"
  },
  "language_info": {
   "codemirror_mode": {
    "name": "ipython",
    "version": 3
   },
   "file_extension": ".py",
   "mimetype": "text/x-python",
   "name": "python",
   "nbconvert_exporter": "python",
   "pygments_lexer": "ipython3",
   "version": "3.11.8"
  },
  "otter": {
   "OK_FORMAT": true,
   "tests": {
    "q1": {
     "name": "q1",
     "points": 5,
     "suites": [
      {
       "cases": [
        {
         "code": ">>> assert round(probability_exactly_50, 4) == 0.0796\n>>> assert round(probability_between_45_and_55, 4) == 0.7287\n",
         "hidden": false,
         "locked": false
        }
       ],
       "scored": true,
       "setup": "",
       "teardown": "",
       "type": "doctest"
      }
     ]
    },
    "q2": {
     "name": "q2",
     "points": 10,
     "suites": [
      {
       "cases": [
        {
         "code": ">>> def test_probability_even_tosses(p):\n...     result = probability_even_tosses(p, num_simulations=10000)\n...     assert isinstance(result, float), 'The result should be a float.'\n...     assert 0 <= result <= 1, 'The result should be a probability value between 0 and 1.'\n...     result = probability_even_tosses(p, num_simulations=100000)\n...     expected_value = p * (1 - p) / (1 - (1 - p) ** 2)\n...     tolerance = 0.005\n...     assert abs(result - expected_value) <= tolerance, f'The result should be close to {expected_value}.'\n>>> \n>>> def test_probability_even_tosses_hidden(p):\n...     result = probability_even_tosses(p, num_simulations=100000)\n...     assert isinstance(result, float), 'The result should be a float.'\n...     assert 0 <= result <= 1, 'The result should be a probability value between 0 and 1.'\n...     result = probability_even_tosses(p, num_simulations=100000)\n...     expected_value = p * (1 - p) / (1 - (1 - p) ** 2)\n...     tolerance = 0.005\n...     assert abs(result - expected_value) <= tolerance, f'The result should be close to {expected_value}.'\n",
         "hidden": false,
         "locked": false
        }
       ],
       "scored": true,
       "setup": "",
       "teardown": "",
       "type": "doctest"
      }
     ]
    }
   }
  }
 },
 "nbformat": 4,
 "nbformat_minor": 5
}
