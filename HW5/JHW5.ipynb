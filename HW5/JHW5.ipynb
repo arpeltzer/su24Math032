{
 "cells": [
  {
   "cell_type": "code",
   "execution_count": null,
   "id": "8f43da9c",
   "metadata": {
    "deletable": false,
    "editable": false
   },
   "outputs": [],
   "source": [
    "# Initialize Otter\n",
    "import otter\n",
    "grader = otter.Notebook(\"JHW5.ipynb\")"
   ]
  },
  {
   "cell_type": "markdown",
   "id": "cc490196-5ff2-4da8-a485-1b94ee6d5966",
   "metadata": {},
   "source": [
    "<h2> Jupyter Homework Week 5 --- Long-term averages </h2>\n",
    "\n",
    "<img src=\"images/lln.png\" style=\"float: right; width: 30%\">\n",
    "\n",
    "In this week's notebook, you'll explore data and understand how the averages tend towards their limits. We'll generate data from different distributions and see how it settles down towards a particular value over time, by repeatedly computing averages."
   ]
  },
  {
   "cell_type": "code",
   "execution_count": null,
   "id": "b53c7acf-d219-49b2-8969-6daf1c194e99",
   "metadata": {},
   "outputs": [],
   "source": [
    "# import the requisite packages\n",
    "import numpy as np\n",
    "from math import factorial"
   ]
  },
  {
   "cell_type": "markdown",
   "id": "b3295603-3234-443b-89d1-9cf78e34ee4e",
   "metadata": {},
   "source": [
    "<h3> Process </h3>\n",
    "\n",
    "\n",
    "\n",
    "<img src=\"images/uniform.png\" style=\"float: right; width: 30%\">\n",
    "\n",
    "The uniform distribution $\\operatorname{Unif}(0, 1)$ has mean $1/2 = 0.5$ and variance $1/12 = 0.0833...$. We can sample from this distribution using numpy's `np.random.uniform()` method.\n",
    "\n",
    "If $X_1,X_2,...,X_n$ are independent samples of a uniform distribution between $a=0$ and $b=1$, the sample mean is defined as\n",
    "\n",
    "$$\\overline{X}_{n} = \\frac{X_1 + X_2 + \\cdots + X_{n}}{n}.$$\n",
    "\n",
    "\n",
    "The sample mean $\\overline{X}_{100}$ of $100$ samples will tend to be *closer* to the true mean $\\mu = 0.5$ then any one sample. In fact, the more and more samples we take, the sample mean will converge to the true mean. We will explore how the variance of $\\overline{X_n}$ goes to $0$ as $n$ gets larger (we will use test $n=10$, $n=100$, and $n=1000$.)"
   ]
  },
  {
   "cell_type": "markdown",
   "id": "1c9055cd-e61c-419b-b7f7-991dd25bc070",
   "metadata": {
    "deletable": false,
    "editable": false
   },
   "source": [
    "<h3> Question 1 </h3>\n",
    "\n",
    "\n",
    "* Create a function that returns the sample mean of $n$ samples, where $n$ is an input to the function. You can use `samples = np.random.uniform(size = n)` to create the samples, and `samples.mean()` to return the mean.\n",
    "  \n"
   ]
  },
  {
   "cell_type": "code",
   "execution_count": null,
   "id": "a462796f-701e-4b11-b631-1dcfd80d07c5",
   "metadata": {
    "tags": []
   },
   "outputs": [],
   "source": [
    "def sample_mean(n):\n",
    "    # sample n times from a uniform distribution\n",
    "    samples = ...\n",
    "    # return the mean of the samples\n",
    "    ..."
   ]
  },
  {
   "cell_type": "code",
   "execution_count": null,
   "id": "fa0a1940-6036-4a99-b316-3c64cf30cb6c",
   "metadata": {
    "tags": []
   },
   "outputs": [],
   "source": [
    "print(\"The sample mean of n=10 samples:\",sample_mean(10))\n",
    "print(\"The sample mean of n=100 samples:\",sample_mean(100))\n",
    "print(\"The sample mean of n=1000 samples:\",sample_mean(1000))"
   ]
  },
  {
   "cell_type": "code",
   "execution_count": null,
   "id": "6a4b4e63",
   "metadata": {
    "deletable": false,
    "editable": false
   },
   "outputs": [],
   "source": [
    "grader.check(\"q1\")"
   ]
  },
  {
   "cell_type": "markdown",
   "id": "08f2859c-b451-4a04-a7a9-25dc5f132126",
   "metadata": {},
   "source": [
    "### Question 2\n",
    "\n",
    "* If $X$ has the original $\\operatorname{Unif}(0, 1)$ distribution, then there is an $80\\%$ chance that $X$ differs from its mean by at least $0.1$: $$P(|X - 0.5| \\ge 0.1) = 80\\%.$$\n",
    "Estimate this quantity for $\\overline{X}_{10}$,$\\overline{X}_{100}$, and $\\overline{X}_{1000}$ replacing $X$. Use a for-loop to sample $\\overline{X}$ many times. Use a variable called `count` to keep track of how often $|X-0.5|\\geq 0.1$ happens.\n",
    "\n",
    "<img src=\"images/xbars.png\" style=\"float: center; width: 50%\">"
   ]
  },
  {
   "cell_type": "code",
   "execution_count": null,
   "id": "fbb9e0e4-1348-403f-989d-a64e2adfa4b7",
   "metadata": {
    "tags": []
   },
   "outputs": [],
   "source": [
    "def calculate_frequency(n):\n",
    "    # use a large number of samples (e.g. 10K)\n",
    "    num_samples = ...\n",
    "    \n",
    "    # intialize a count variable\n",
    "    count = ...\n",
    "    \n",
    "    \n",
    "    for _ in range(num_samples):\n",
    "        # simulate using 'sample_mean'\n",
    "        xbar = ...\n",
    "        # add 1 to count if xbar <= 0.4 or xbar>=0.6\n",
    "        ...\n",
    "            ...\n",
    "\n",
    "    # calculate the frequency\n",
    "    frequency = ...\n",
    "    return frequency\n",
    "\n",
    "\n",
    "print(\"n=10: An estimate for the probability:\",calculate_frequency(10))\n",
    "print(\"n=100: An estimate for the probability:\",calculate_frequency(100))\n",
    "print(\"n=1000: An estimate for the probability:\",calculate_frequency(1000))"
   ]
  },
  {
   "cell_type": "code",
   "execution_count": null,
   "id": "df3e4187",
   "metadata": {
    "deletable": false,
    "editable": false
   },
   "outputs": [],
   "source": [
    "grader.check(\"q2\")"
   ]
  },
  {
   "cell_type": "markdown",
   "id": "ff11ddea-5146-4eec-82d4-5f4e37c0c21c",
   "metadata": {},
   "source": [
    "What do you notice about the probabilities? Do they increase/decrease as $n$ gets larger? Does this match your intuition?"
   ]
  },
  {
   "cell_type": "code",
   "execution_count": null,
   "id": "453588ed-bf93-456e-ba73-93fcf767e77c",
   "metadata": {},
   "outputs": [],
   "source": [
    "# Write your answer here\n",
    "\n"
   ]
  },
  {
   "cell_type": "markdown",
   "id": "afaf6355",
   "metadata": {
    "deletable": false,
    "editable": false
   },
   "source": [
    "## Submission\n",
    "\n",
    "Make sure you have run all cells in your notebook in order before running the cell below, so that all images/graphs appear in the output. The cell below will generate a zip file for you to submit. **Please save before exporting!**"
   ]
  },
  {
   "cell_type": "code",
   "execution_count": null,
   "id": "02adfc69",
   "metadata": {
    "deletable": false,
    "editable": false
   },
   "outputs": [],
   "source": [
    "# Save your notebook first, then run this cell to export your submission.\n",
    "grader.export(run_tests=True)"
   ]
  },
  {
   "cell_type": "markdown",
   "id": "3327c4a9",
   "metadata": {},
   "source": [
    " "
   ]
  }
 ],
 "metadata": {
  "kernelspec": {
   "display_name": "Python 3 (ipykernel)",
   "language": "python",
   "name": "python3"
  },
  "language_info": {
   "codemirror_mode": {
    "name": "ipython",
    "version": 3
   },
   "file_extension": ".py",
   "mimetype": "text/x-python",
   "name": "python",
   "nbconvert_exporter": "python",
   "pygments_lexer": "ipython3",
   "version": "3.11.8"
  },
  "otter": {
   "OK_FORMAT": true,
   "tests": {
    "q1": {
     "name": "q1",
     "points": [
      2,
      2,
      2
     ],
     "suites": [
      {
       "cases": [
        {
         "code": ">>> def irwin_hall_check(n, a, num_samples=10000):\n...     samples_n = np.array([sample_mean(n) for _ in range(num_samples)])\n...     prob_error = (1 - 1 / factorial(n + 1) * (a * n) ** (n + 1)) ** num_samples\n...     return samples_n.min() > a\n>>> n, a = (10, 0.1)\n>>> assert irwin_hall_check(n, a)\n",
         "hidden": false,
         "locked": false
        },
        {
         "code": ">>> def irwin_hall_check(n, a, num_samples=10000):\n...     samples_n = np.array([sample_mean(n) for _ in range(num_samples)])\n...     prob_error = (1 - 1 / factorial(n + 1) * (a * n) ** (n + 1)) ** num_samples\n...     return samples_n.min() > a\n>>> n, a = (100, 0.01)\n>>> assert irwin_hall_check(n, a)\n",
         "hidden": false,
         "locked": false
        },
        {
         "code": ">>> def irwin_hall_check(n, a, num_samples=10000):\n...     samples_n = np.array([sample_mean(n) for _ in range(num_samples)])\n...     prob_error = (1 - 1 / factorial(n + 1) * (a * n) ** (n + 1)) ** num_samples\n...     return samples_n.min() > a\n>>> n, a = (1000, 0.001)\n>>> assert irwin_hall_check(n, a)\n",
         "hidden": false,
         "locked": false
        }
       ],
       "scored": true,
       "setup": "",
       "teardown": "",
       "type": "doctest"
      }
     ]
    },
    "q2": {
     "name": "q2",
     "points": [
      2,
      2
     ],
     "suites": [
      {
       "cases": [
        {
         "code": ">>> assert np.isclose(calculate_frequency(10), 0.28074, atol=0.2)\n",
         "hidden": false,
         "locked": false
        },
        {
         "code": ">>> assert np.isclose(calculate_frequency(100), 0.000511, atol=0.01)\n",
         "hidden": false,
         "locked": false
        }
       ],
       "scored": true,
       "setup": "",
       "teardown": "",
       "type": "doctest"
      }
     ]
    }
   }
  }
 },
 "nbformat": 4,
 "nbformat_minor": 5
}
