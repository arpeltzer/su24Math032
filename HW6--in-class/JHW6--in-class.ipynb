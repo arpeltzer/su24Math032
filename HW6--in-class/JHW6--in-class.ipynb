{
 "cells": [
  {
   "cell_type": "markdown",
   "id": "df3f021f-d678-40ae-b791-5aa2aff1a4e7",
   "metadata": {},
   "source": [
    "<h2> Jupyter Homework 6: Exploring confidence intervals </h2>\n",
    "\n",
    "\n",
    "<img src=\"images/CIs.png\" style=\"float: right; width: 50%\">\n",
    "\n",
    "\n",
    "This week, we're going to experiment a bit with confidence intervals and generating them from data. One of the most subtle things about confidence intervals is that they do *not* represent the probability that a parameter $\\mu$ is in a particular interval $(\\ell, u)$ -- it either is or it isn't. What *is* true is that if we generate a large number of confidence intervals at level $CL$, then they should contain the parameter with probability $CL$.\n",
    "\n",
    "\n",
    "\n",
    "\n",
    "\n",
    "\n",
    "Let's demonstrate this with our standard normal. We'll do the following as a single trial:\n",
    "* Generate $50$ normally distributed numbers from an $N(0, 1)$ distribution using `np.random.normal()`.\n",
    "* Compute the sample mean $\\overline{X}$\n",
    "* Construct a $90\\%$ confidence interval $(\\overline{X} \\pm 1.645 / \\sqrt{50})$.\n",
    "* Check if the true mean $\\mu = 0$ is in the confidence interval.\n",
    "\n",
    "We'll then carry out $10,000$ trials of this and see how close we came:\n"
   ]
  },
  {
   "cell_type": "code",
   "execution_count": null,
   "id": "cd777ee6-f269-4ae9-bd3d-49fafca0c358",
   "metadata": {},
   "outputs": [],
   "source": [
    "import numpy as np\n",
    "import scipy\n",
    "from scipy.stats import norm"
   ]
  },
  {
   "cell_type": "markdown",
   "id": "afa81949-0c71-4172-8945-3ed16e117f87",
   "metadata": {},
   "source": [
    "Let's first create a function that creates a confidence interval given the proper $n$ value and the proper $z$-score. The function returns $1$ if our mean is in the interval and $0$ if not. "
   ]
  },
  {
   "cell_type": "code",
   "execution_count": null,
   "id": "e077e9dc-0318-4452-9672-9dd8a49168a7",
   "metadata": {},
   "outputs": [],
   "source": [
    "def is_in_CI(n,z):\n",
    "    # Set the true mean  to 0 and variance to 1\n",
    "    mu = 0\n",
    "    sigma = 1\n",
    "    # Generate n random data points\n",
    "    data = np.random.normal(size = n)\n",
    "    # Calculate the sample mean\n",
    "    xbar = np.mean(data)\n",
    "    # Calculate the Standard Error\n",
    "    SE = z*sigma/np.sqrt(n)\n",
    "    # Check if 0 is in the confidence interval\n",
    "    if xbar - SE < mu < xbar + SE:\n",
    "        return 1\n",
    "    else:\n",
    "        return 0"
   ]
  },
  {
   "cell_type": "markdown",
   "id": "542d72b4-ec1e-44b3-b0a3-ef6c5133f4d5",
   "metadata": {},
   "source": [
    "**Example Usage**:"
   ]
  },
  {
   "cell_type": "code",
   "execution_count": null,
   "id": "57dbbc9c-aa99-4531-a444-a04a21c94459",
   "metadata": {},
   "outputs": [],
   "source": [
    "n = 50\n",
    "CL = 0.9\n",
    "alpha = 1-CL\n",
    "z = norm.isf(alpha/2)\n",
    "print(\"Our z-score: \",z)\n",
    "\n",
    "# Run this 10K times and count the successes\n",
    "count = 0\n",
    "for _ in range(10000):\n",
    "    count += is_in_CI(n,z)\n",
    "\n",
    "print(count)"
   ]
  },
  {
   "cell_type": "markdown",
   "id": "398070bd-26c9-4f90-b89c-885fc7604801",
   "metadata": {},
   "source": [
    "\n",
    "<h3> Questions </h3>\n",
    "\n",
    "#### Question 1: \n",
    "\n",
    "* Modify the cell below to construct a $95\\%$ confidence interval, this time taking only $n=8$ samples each time from the normal distribution. Your code should again print out a `count` just like above, this time it should be close to $9,500$."
   ]
  },
  {
   "cell_type": "code",
   "execution_count": null,
   "id": "7794931e-6522-4d30-84bd-ce11947c9458",
   "metadata": {},
   "outputs": [],
   "source": [
    "# Put your answer to question 1 here\n",
    "\n",
    "\n",
    "n = ...\n",
    "CL = ...\n",
    "alpha = ...\n",
    "z = ...\n",
    "print(\"Our z-score: \",z)\n",
    "\n",
    "# Run this 10K times and count the successes\n",
    "count1 = 0\n",
    "for _ in range(10000):\n",
    "    count1 += is_in_CI(n,z)\n",
    "\n",
    "print(\"The true mean was in the interval\",count1,\"times\")"
   ]
  },
  {
   "cell_type": "markdown",
   "id": "e35b021e-8456-423b-9da4-fa26dfdc5db8",
   "metadata": {},
   "source": [
    "#### Question 2: \n",
    "* Keeping the same $n=8$ and $CL = 95\\%$, replace the standard error $SE = z* \\sigma/\\sqrt{n}$ using the **sample standard deviation**: $SE = z*s_n/\\sqrt{n}$. You can calculate the sample standard deviation $s_n$ using `np.std(data)`.\n"
   ]
  },
  {
   "cell_type": "code",
   "execution_count": null,
   "id": "59cb04bc-a21d-409b-b852-398a140cdf93",
   "metadata": {},
   "outputs": [],
   "source": [
    "# Put your answer to question 2 here\n",
    "\n",
    "\n",
    "\n",
    "def is_in_CI_with_sample_std(n,z):\n",
    "    # Set the true mean  to 0\n",
    "    mu = ...\n",
    "    # Generate n random data points\n",
    "    data = ...\n",
    "    # Calculate the sample mean,sample std, and SE\n",
    "    xbar = ...\n",
    "    std_dev = ...\n",
    "    SE = ...\n",
    "    # Check if 0 is in the confidence interval\n",
    "    if ...\n",
    "        return ...\n",
    "    else:\n",
    "        return ...\n",
    "\n",
    "n = ...\n",
    "CL = ...\n",
    "alpha = ...\n",
    "z = ...\n",
    "print(\"Our z-score: \",z)\n",
    "\n",
    "# Run this 10K times and count the successes\n",
    "count2 = 0\n",
    "for _ in range(10000):\n",
    "    count2 += is_in_CI_with_sample_std(n,z)\n",
    "\n",
    "print(\"The true mean was in the interval\",count2,\"times\")"
   ]
  },
  {
   "cell_type": "markdown",
   "id": "6cc625e0-89b8-4385-a02c-cc59488c0143",
   "metadata": {},
   "source": [
    "*  Estimate the corresponding confidence level; is it higher or lower than $95\\%$? Does this match your expectation?"
   ]
  },
  {
   "cell_type": "code",
   "execution_count": null,
   "id": "766c1732-3c2b-4a41-92df-b60bcb3d75c7",
   "metadata": {},
   "outputs": [],
   "source": [
    "# Put your response in the string\n",
    "\n",
    "Response = \"...\"\n",
    "print(Response)"
   ]
  },
  {
   "cell_type": "markdown",
   "id": "32027f7a-3a56-40c9-a7bf-e73434a054a0",
   "metadata": {},
   "source": [
    "#### Question 3:\n",
    "* Adapting your code from the previous part, estimate a value of $t$ so that $(\\overline{X} \\pm t \\cdot s_{8} / \\sqrt{8})$ is a $95\\%$ confidence interval for the mean.\n",
    "\n",
    "\n",
    "*Note*: To verify your answer, you can look up $t_{7, 0.025}$ in Table B.2 in the textbook, or run `scipy.stats.t.isf(alpha/2,df = n-1)`.\n"
   ]
  },
  {
   "cell_type": "code",
   "execution_count": null,
   "id": "a015cab5-0d64-48d4-a277-dc77f72b2516",
   "metadata": {},
   "outputs": [],
   "source": [
    "# Put your answer to question 3 here\n",
    "\n",
    "\n",
    "...\n",
    "\n",
    "\n",
    "t = ...\n",
    "print(t)"
   ]
  },
  {
   "cell_type": "markdown",
   "id": "393ab3cd-133a-4fe7-9087-2636342315d4",
   "metadata": {},
   "source": [
    "## -----------------------------------------------------------------------\n",
    "\n",
    "**Submission** : Export as a `.ipynb` file and upload it onto *Gradescope* under **Jupyter Homework 6 -- in-class**. You should be able to upload one submission per group.\n",
    "\n",
    "## -----------------------------------------------------------------------"
   ]
  },
  {
   "cell_type": "markdown",
   "id": "306b8f35",
   "metadata": {},
   "source": []
  }
 ],
 "metadata": {
  "kernelspec": {
   "display_name": "Python 3 (ipykernel)",
   "language": "python",
   "name": "python3"
  },
  "language_info": {
   "codemirror_mode": {
    "name": "ipython",
    "version": 3
   },
   "file_extension": ".py",
   "mimetype": "text/x-python",
   "name": "python",
   "nbconvert_exporter": "python",
   "pygments_lexer": "ipython3",
   "version": "3.11.8"
  }
 },
 "nbformat": 4,
 "nbformat_minor": 5
}
