{
 "cells": [
  {
   "cell_type": "markdown",
   "id": "94613ef0-bf7c-40fd-a97a-eaa3660a1e35",
   "metadata": {},
   "source": [
    "### Jupyter Homework 7: Exploratory Data Analysis and Linear Regression"
   ]
  },
  {
   "cell_type": "markdown",
   "id": "ecee6072-465f-4ba9-ad13-d8d021c7230c",
   "metadata": {},
   "source": [
    "### Childhood Obesity Data\n",
    "\n",
    "According to the *[World Health Organization](https://www.who.int/health-topics/obesity#tab=tab_1)*, \"Overweight and obesity are defined as abnormal or excessive fat accumulation that presents a risk to health. A body mass index (BMI) over 25 is considered overweight, and over 30 is obese. The issue has grown to epidemic proportions, with over 4 million people dying each year as a result of being overweight or obese in 2017 according to the global burden of disease.\" This is particularly concerning in the case of children, where the prevalence of obesity has increased worldwide over the past 50 years. (Abarca-Gomez et al.)\n",
    "\n",
    "In order to understand this phenomena we will look at some representative data compiled by the CDC and NHANES (**National Health and Nutrition Estimation Survey**). We will be applying linear regression to see the correlations between `Height`, `Weight`, and `Waist Size` in our dataset."
   ]
  },
  {
   "cell_type": "markdown",
   "id": "7c9be0f4-a258-46b1-b774-a82f6a582d3b",
   "metadata": {},
   "source": [
    "### Setup\n",
    "\n",
    "Import some python libraries needed for this notebook."
   ]
  },
  {
   "cell_type": "code",
   "execution_count": null,
   "id": "572bb2cb-8e81-4d20-b752-0b530d28f6a5",
   "metadata": {},
   "outputs": [],
   "source": [
    "import numpy as np\n",
    "import pandas as pd\n",
    "import matplotlib.pyplot as plt\n",
    "import seaborn as sns"
   ]
  },
  {
   "cell_type": "markdown",
   "id": "6e58069c-6d7d-4ada-a2ad-6d1b9a7aa206",
   "metadata": {
    "tags": []
   },
   "source": [
    "### NHANES Data\n",
    "\n",
    "The data we will use is a cleaned up version of a data set downloaded from the **[National Health and Nutrition Examination Survey](https://www.cdc.gov/nchs/nhanes/index.htm)**\n",
    "\n",
    "The particular data set chosen was the [2017- March 2020 Pre-Pandemic Examination Data](https://wwwn.cdc.gov/Nchs/Nhanes/2017-2018/P_BMX.htm)."
   ]
  },
  {
   "cell_type": "code",
   "execution_count": null,
   "id": "0a064bec-09dd-4597-a40c-e118db90e432",
   "metadata": {},
   "outputs": [],
   "source": [
    "# Read in the data set and take a quick look at it.\n",
    "df = pd.read_csv('data/NHANESChildObesity.csv', index_col = 0)\n",
    "df = df.reset_index(drop = True)\n",
    "df.head()"
   ]
  },
  {
   "cell_type": "markdown",
   "id": "0c395431",
   "metadata": {},
   "source": [
    "Let's *rename the columns* to make the data more readable."
   ]
  },
  {
   "cell_type": "code",
   "execution_count": null,
   "id": "3540181d",
   "metadata": {},
   "outputs": [],
   "source": [
    "cols = {\"BMDBMIC\":\"Category\",\n",
    "        \"BMXBMI\":\"BMI (kg/m**2)\",\n",
    "        \"BMXHT\":\"Height (cm)\",\n",
    "        \"BMXWAIST\":\"Waist Size (cm)\",\n",
    "        \"BMXWT\":\"Weight (kg)\"}\n",
    "df = df.rename(columns = cols)"
   ]
  },
  {
   "cell_type": "code",
   "execution_count": null,
   "id": "700fdc72-f13a-4a79-afd7-ed2f0caffedc",
   "metadata": {},
   "outputs": [],
   "source": [
    "df.head()"
   ]
  },
  {
   "cell_type": "markdown",
   "id": "5383769d-f642-4a2e-8b09-eedb0005a174",
   "metadata": {},
   "source": [
    "From the website description, the `Category` column has codes $1,2,3$ or $4$. These represent `Underweight`,`Normal Weight`, `Overweight`, and `Obese` respectively. Let's change the category codes to their names."
   ]
  },
  {
   "cell_type": "code",
   "execution_count": null,
   "id": "139a4294-9499-4a4b-abed-f35286bd9c0d",
   "metadata": {},
   "outputs": [],
   "source": [
    "category_codes = {1:'Underweight',\n",
    "                  2:'Normal Weight',\n",
    "                  3:'Overweight',\n",
    "                  4:'Obese'}"
   ]
  },
  {
   "cell_type": "code",
   "execution_count": null,
   "id": "d443a75f-260c-43d3-b081-97be73a1daf5",
   "metadata": {},
   "outputs": [],
   "source": [
    "df['Category'] = df['Category'].apply(lambda x: category_codes[x])"
   ]
  },
  {
   "cell_type": "code",
   "execution_count": null,
   "id": "21fa7c13-a17b-4965-bdf9-26f600cdba2a",
   "metadata": {},
   "outputs": [],
   "source": [
    "df.head()"
   ]
  },
  {
   "cell_type": "markdown",
   "id": "78706c59-9ee0-4bb2-aa8a-796e0b3e32d8",
   "metadata": {},
   "source": [
    "Now let's look at those in the category `Normal Weight` only."
   ]
  },
  {
   "cell_type": "code",
   "execution_count": null,
   "id": "bb45bc78-7282-4186-b702-a3ad05edd233",
   "metadata": {},
   "outputs": [],
   "source": [
    "df = df[df['Category'] == 'Normal Weight']\n",
    "plt.figure(figsize=(5,5))\n",
    "g = sns.pairplot(df, kind=\"scatter\")\n",
    "g.fig.set_size_inches(7,7)"
   ]
  },
  {
   "cell_type": "markdown",
   "id": "4779c6cb-4436-4a58-95d6-279ab0eb0bd8",
   "metadata": {},
   "source": [
    "### Questions\n",
    "\n",
    "#### Question 1:\n",
    "\n",
    "What do you notice about the plot? Which two variables seem to be the most correlated?"
   ]
  },
  {
   "cell_type": "code",
   "execution_count": null,
   "id": "13ac1ebd-cf6b-4253-9ad1-63946fea7384",
   "metadata": {},
   "outputs": [],
   "source": [
    "# Put your answer to Question 1 here\n",
    "\n"
   ]
  },
  {
   "cell_type": "markdown",
   "id": "4a7af4ed-2905-452d-9bd8-c571b647d2ae",
   "metadata": {},
   "source": [
    "#### Question 2a:\n",
    "\n",
    "For two columns of *your choice*, find the *slope* and $y$*-intercept* of the *line of best fit* using `scipy.stats.linregress`. You can look at the [documentation here](https://docs.scipy.org/doc/scipy-0.14.0/reference/generated/scipy.stats.linregress.html), or ask chat gpt for help."
   ]
  },
  {
   "cell_type": "code",
   "execution_count": null,
   "id": "82f8de11-c96d-4594-8aef-1fdfdcb9ede7",
   "metadata": {},
   "outputs": [],
   "source": [
    "# Put your answer to Question 2a here\n",
    "\n",
    "# Example choices of X and Y:\n",
    "X = df['Height (cm)']\n",
    "Y = df['Weight (kg)']\n",
    "\n",
    "\n",
    "\n",
    "slope = ...\n",
    "y_intercept = ..."
   ]
  },
  {
   "cell_type": "markdown",
   "id": "2bde991e-9f2d-4fb5-a3aa-dfa6d8478542",
   "metadata": {},
   "source": [
    "#### Question 2b:\n",
    "\n",
    "In class, we saw the following formulas for the line of best fit $y = \\alpha + \\beta x$. Given a set of data points $(x_i, y_i)$,\n",
    "$$\\beta = \\frac{n \\sum x_i y_i - \\left(\\sum x_i\\right)\\left(\\sum y_i\\right)}{n \\sum x_i^2 - \\left(\\sum x_i\\right)^2}$$\n",
    "and\n",
    "$$\\alpha = \\overline{y}_n - \\beta \\overline{x}_n.$$\n",
    "\n",
    "\n",
    "Verify your answers to **Question 2a** by creating two functions that calculate alpha and beta."
   ]
  },
  {
   "cell_type": "code",
   "execution_count": null,
   "id": "cd49609a-fe4d-457b-bf8b-db306adb3a08",
   "metadata": {},
   "outputs": [],
   "source": [
    "# Put your answer to Question 2b here\n",
    "\n",
    "def beta(X,Y):\n",
    "    # calculate beta \n",
    "    ...\n",
    "\n",
    "\n",
    "def alpha(X,Y):\n",
    "    b = beta(X,Y)\n",
    "    # calculate alpha\n",
    "    ...\n",
    "\n",
    "\n",
    "X = ...\n",
    "Y = ...\n",
    "print(alpha(X,Y),beta(X,Y))"
   ]
  },
  {
   "cell_type": "markdown",
   "id": "7d1144a2-6c1f-47a5-8ab5-247defff35c6",
   "metadata": {},
   "source": [
    "#### Question 3:\n",
    "\n",
    "Using the slope and intercept you found in **Question 2**, plot the scatter points and the line on the same figure. Again, feel free to ask chat gpt for help, or google `plt.scatter` (or `sns.scatterplot`) for more information on how to plot using matplotlib (or seaborn)."
   ]
  },
  {
   "cell_type": "code",
   "execution_count": null,
   "id": "687e2b29-ee23-40a2-b829-14366997a53a",
   "metadata": {},
   "outputs": [],
   "source": [
    "# Put your answer to Question 3 here\n",
    "\n",
    "plot = ..."
   ]
  },
  {
   "cell_type": "markdown",
   "id": "12c11dad-63d8-4b13-a3d5-5c45b2bf4f9a",
   "metadata": {},
   "source": [
    "#### Question 4:\n",
    "\n",
    "Use your line of best fit to *guess* the $y$-value of someone in the 25th,50th, and 75th percentiles of your chosen $x$ variable. "
   ]
  },
  {
   "cell_type": "code",
   "execution_count": null,
   "id": "42125ec1-dd36-4eaf-b472-3e776f70ad65",
   "metadata": {},
   "outputs": [],
   "source": [
    "# Put your answer to Question 4 here\n",
    "\n",
    "\n",
    "\n",
    "x25 = ...\n",
    "y25 = ...\n",
    "print(x25,y25)\n",
    "\n",
    "\n",
    "x50 = ...\n",
    "y50 = ...\n",
    "print(x50,y50)\n",
    "\n",
    "\n",
    "x75 = ...\n",
    "y65 = ...\n",
    "print(x75,y75)"
   ]
  },
  {
   "cell_type": "markdown",
   "id": "03fce613-2406-47d4-993b-0dbca08d0e52",
   "metadata": {},
   "source": [
    "### References\n",
    "1. Worldwide trends in body-mass index, underweight, overweight, and obesity from 1975 to 2016: a pooled analysis of 2416 population-based measurement studies in 128·9 million children, adolescents, and adults. Lancet. 2017 Dec 16;390(10113):2627-2642. doi: 10.1016/S0140-6736(17)32129-3. Epub 2017 Oct 10. PMID: 29029897; PMCID: PMC5735219.\n",
    "2. Computing standard deviations: accuracy, Chan and Lewis, Communications of the ACM, Vol. 22, No. 9, September 1979."
   ]
  },
  {
   "cell_type": "markdown",
   "id": "b8b22533-0d6a-40bc-a78c-ac1287bca453",
   "metadata": {},
   "source": [
    "## -----------------------------------------------------------------------\n",
    "\n",
    "**Submission** : Go to `File -> Save and Export Notebook As... -> PDF` and upload it onto CatCourses.\n",
    "\n",
    "## -----------------------------------------------------------------------"
   ]
  },
  {
   "cell_type": "markdown",
   "id": "2f80795e-9c83-4f5d-a1d3-92ea5d38f983",
   "metadata": {},
   "source": [
    "*Math 032 - Probability and Statistics*\n",
    "\n",
    "*UC Merced: Adrien Peltzer, July 20, 2024*"
   ]
  },
  {
   "cell_type": "markdown",
   "id": "714d4500",
   "metadata": {},
   "source": []
  }
 ],
 "metadata": {
  "kernelspec": {
   "display_name": "Python 3 (ipykernel)",
   "language": "python",
   "name": "python3"
  },
  "language_info": {
   "codemirror_mode": {
    "name": "ipython",
    "version": 3
   },
   "file_extension": ".py",
   "mimetype": "text/x-python",
   "name": "python",
   "nbconvert_exporter": "python",
   "pygments_lexer": "ipython3",
   "version": "3.9.6"
  }
 },
 "nbformat": 4,
 "nbformat_minor": 5
}
