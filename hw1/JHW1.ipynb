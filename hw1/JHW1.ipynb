{
 "cells": [
  {
   "cell_type": "markdown",
   "id": "c55320a1-251e-43d7-aba4-cd2460f015a5",
   "metadata": {},
   "source": [
    "<h2> Jupyter Homework Week 1 </h2>\n",
    "\n",
    "### Introduction to using Jupyter \n",
    "\n",
    "This notebook is meant to give you an introduction to using Jupyter.\n",
    "\n",
    "This notebook has a couple of questions that introduce you to the process of using Python code to answer questions, along with the particular syntax. If you're interested in learning more about the details of coding in Python, [this tutorial](https://www.w3schools.com/python/) is a great starting point.\n",
    "\n",
    "Let's get started!"
   ]
  },
  {
   "cell_type": "markdown",
   "id": "1130b99f-a841-4bce-a3d2-22c7a1ad54c9",
   "metadata": {},
   "source": [
    "<h3> Part 1: Computing a sum with Python </h3>\n",
    "\n",
    "In previous courses, you probability computed sums with sigma notation; for example,\n",
    "$$\\sum_{n = 1}^{1000} \\frac{1}{n} = \\frac 1 1 + \\frac 1 2 + \\frac 1 3 + \\cdots \\frac{1}{1000}.$$\n",
    "These can get extremely cumbersome to compute by hand, but are easily handled by a computer using a [for loop](https://www.w3schools.com/python/python_for_loops.asp). The Python code that will compute this sum is below, with a lot of comments. Comments are placed on lines using \\#, and are not interpreted as code."
   ]
  },
  {
   "cell_type": "code",
   "execution_count": null,
   "id": "541b55e7-8e68-4545-a0f6-855bfa7769ec",
   "metadata": {},
   "outputs": [],
   "source": [
    "# initialize the sum\n",
    "def sum_of_reciprocals(N):\n",
    "    \"\"\"Generate the sum of the first N recipricals, for n=1,...,N\"\"\"\n",
    "    # initialize the sum\n",
    "    s = 0\n",
    "    # run a for loop that adds 1/n each\n",
    "    for n in range(1, N + 1):\n",
    "        s = s + 1/n\n",
    "    return s\n",
    "print(sum_of_reciprocals(1000))"
   ]
  },
  {
   "cell_type": "markdown",
   "id": "70aad6cf",
   "metadata": {},
   "source": [
    "### Problem 1a"
   ]
  },
  {
   "cell_type": "markdown",
   "id": "dbbcb83c-125c-4e71-827b-3f013c6ac463",
   "metadata": {},
   "source": [
    "So the sum of the first $1000$ numbers is about $7.49$. Now it's your turn; **answer the following two questions**.\n",
    "\n",
    "* Create a function that calculates $\\sum\\limits_{n = 1}^{N} n^3$. Note that in Python, $a^b$ is written as `a**b`.\n",
    "\n"
   ]
  },
  {
   "cell_type": "raw",
   "id": "a19a238e-cce1-4de9-b686-4ae0f0b4adea",
   "metadata": {},
   "source": [
    "# BEGIN QUESTION\n",
    "name: q1a\n",
    "points: 5\n",
    "export: true"
   ]
  },
  {
   "cell_type": "raw",
   "id": "13259ee2-13f7-4c4e-b1a0-805123dc9669",
   "metadata": {},
   "source": [
    "# BEGIN SOLUTION"
   ]
  },
  {
   "cell_type": "code",
   "execution_count": null,
   "id": "084c75e7",
   "metadata": {},
   "outputs": [],
   "source": [
    "# Put your answer to Problem 1a here\n",
    "def sum_of_cubes(N):\n",
    "    \"\"\"Generate the sum of the first N cubes, for n=1,...,N\"\"\"\n",
    "    # BEGIN SOLUTION\n",
    "    s = 0\n",
    "    for n in range(1, N + 1):\n",
    "        s = s + n**3\n",
    "    # END SOLUTION\n",
    "    return s"
   ]
  },
  {
   "cell_type": "raw",
   "id": "07b906c1-ac50-44f2-997e-7c0c65f8f4ba",
   "metadata": {},
   "source": [
    "# END SOLUTION"
   ]
  },
  {
   "cell_type": "raw",
   "id": "2f17fb06-b441-42c4-975a-373dfdaea4fd",
   "metadata": {},
   "source": [
    "# BEGIN TESTS"
   ]
  },
  {
   "cell_type": "code",
   "execution_count": null,
   "id": "e5ca16e6-06a3-4587-b509-67fe7d27c114",
   "metadata": {},
   "outputs": [],
   "source": [
    "def test_low_cubes(sum_of_cubes):\n",
    "    assert sum_of_cubes(1) == 1\n",
    "    assert sum_of_cubes(10) == 3025\n",
    "    assert sum_of_cubes(50) == 1625625\n",
    "\n",
    "test_low_cubes(sum_of_cubes)"
   ]
  },
  {
   "cell_type": "code",
   "execution_count": null,
   "id": "41ad95db-d95b-4484-809a-60c7dec5d51a",
   "metadata": {},
   "outputs": [],
   "source": [
    "# HIDDEN\n",
    "def test_higher_cubes(sum_of_cubes):\n",
    "    assert sum_of_cubes(100) == 25502500\n",
    "    assert sum_of_cubes(1000) == 250500250000\n",
    "\n",
    "test_higher_cubes(sum_of_cubes)"
   ]
  },
  {
   "cell_type": "raw",
   "id": "0735aa34-4c55-4e29-bbaa-5d99a9dd96b4",
   "metadata": {},
   "source": [
    "# END TESTS"
   ]
  },
  {
   "cell_type": "raw",
   "id": "0d80f8e3-235e-4252-86d7-4f8c6f49fce9",
   "metadata": {},
   "source": [
    "# END QUESTION"
   ]
  },
  {
   "cell_type": "markdown",
   "id": "12b2e540-060b-4e40-b7c1-77dc3230bfd5",
   "metadata": {},
   "source": [
    "### Problem 1b\n",
    "\n",
    "\n",
    "Now create a function that calculates $\\sum\\limits_{n = 1}^{N} \\frac{1}{n^2}$."
   ]
  },
  {
   "cell_type": "raw",
   "id": "4423673e-db09-4a14-894c-532c83531390",
   "metadata": {},
   "source": [
    "# BEGIN QUESTION\n",
    "name: q1b\n",
    "points: 5\n",
    "export: true"
   ]
  },
  {
   "cell_type": "raw",
   "id": "52901ffd-fbf0-47d6-b692-0d7237def3a4",
   "metadata": {},
   "source": [
    "# BEGIN SOLUTION"
   ]
  },
  {
   "cell_type": "code",
   "execution_count": null,
   "id": "0eb28d03-b647-4378-990b-14c50852eca4",
   "metadata": {},
   "outputs": [],
   "source": [
    "# Put your answer to Problem 1a here\n",
    "def sum_of_square_inverses(N):\n",
    "    \"\"\"Generate the sum of the first N inverse of squares, for n=1,...,N\"\"\"\n",
    "    # BEGIN SOLUTION\n",
    "    s = 0\n",
    "    for n in range(1, N + 1):\n",
    "        s = s + 1/n**2\n",
    "    # END SOLUTION\n",
    "    return s\n",
    "print(sum_of_square_inverses(20))\n",
    "print(sum_of_square_inverses(100))"
   ]
  },
  {
   "cell_type": "raw",
   "id": "7d9d89a9-e7f5-4769-8fa7-f98522f77298",
   "metadata": {},
   "source": [
    "# END SOLUTION"
   ]
  },
  {
   "cell_type": "raw",
   "id": "e0411c2c-3184-4460-815c-a935ce1d1378",
   "metadata": {},
   "source": [
    "# BEGIN TESTS"
   ]
  },
  {
   "cell_type": "code",
   "execution_count": null,
   "id": "76d5bbe6-271a-4b41-b3e7-b738b9c474ed",
   "metadata": {},
   "outputs": [],
   "source": [
    "def test_low_square_inverse(sum_of_square_inverses):\n",
    "    assert sum_of_square_inverses(1) == 1.0\n",
    "    assert abs(sum_of_square_inverses(10) - 1.549) < .01\n",
    "    assert abs(sum_of_square_inverses(20) - 1.596) < .01\n",
    "\n",
    "test_low_square_inverse(sum_of_square_inverses)"
   ]
  },
  {
   "cell_type": "code",
   "execution_count": null,
   "id": "ba022b66-ab85-48e1-883f-f97355fdb1da",
   "metadata": {},
   "outputs": [],
   "source": [
    "# HIDDEN\n",
    "def test_higher_square_inverse(sum_of_square_inverses):\n",
    "    assert abs(sum_of_square_inverses(50) - 1.625) < .01\n",
    "    assert abs(sum_of_square_inverses(100) - 1.6349) < .01\n",
    "\n",
    "test_higher_square_inverse(sum_of_square_inverses)"
   ]
  },
  {
   "cell_type": "raw",
   "id": "0152c0ce-05e0-4e69-8e17-759efb2d93f8",
   "metadata": {},
   "source": [
    "# END TESTS"
   ]
  },
  {
   "cell_type": "raw",
   "id": "2f0b7e80-6de1-4916-bc10-067a61353648",
   "metadata": {},
   "source": [
    "# END QUESTION"
   ]
  },
  {
   "cell_type": "markdown",
   "id": "3511abcd-16cf-4b22-8d20-9adcb77e499f",
   "metadata": {},
   "source": [
    "<h3> Part 2: Generating random numbers with Python </h3>\n",
    "\n",
    "For this, we will use the [numpy](https://numpy.org) package, although there are many choices for generating random numbers using python.\n",
    "\n",
    "Here is the documentation for the [randint()](https://numpy.org/doc/stable/reference/random/generated/numpy.random.randint.html) function we will be using."
   ]
  },
  {
   "cell_type": "code",
   "execution_count": null,
   "id": "aa7f79fc-0f1f-43cf-8d39-8a91e9a165ba",
   "metadata": {},
   "outputs": [],
   "source": [
    "import numpy as np\n",
    "# choose either 0 or 1\n",
    "flip = np.random.randint(low = 0 , high = 2)\n",
    "print(flip)"
   ]
  },
  {
   "cell_type": "markdown",
   "id": "0996ed87",
   "metadata": {},
   "source": [
    "For this problem, we will think of 0 as Tails and 1 as Heads"
   ]
  },
  {
   "cell_type": "code",
   "execution_count": null,
   "id": "fbe9bfa3",
   "metadata": {},
   "outputs": [],
   "source": [
    "flips = np.random.randint(low = 0, high = 2, size = 100)\n",
    "num_heads = flips.sum()\n",
    "print(f'Number of heads = {num_heads}')"
   ]
  },
  {
   "cell_type": "markdown",
   "id": "048304ad",
   "metadata": {},
   "source": [
    "### Problem 2"
   ]
  },
  {
   "cell_type": "markdown",
   "id": "decbc1a7-7f6d-4179-8dd2-eb569d804056",
   "metadata": {},
   "source": [
    "Suppose you flip $1000$ coins and record the number of heads.\n",
    "Do this experiment $10$ times; what's the largest number of heads that you recorded in those ten runs?\n"
   ]
  },
  {
   "cell_type": "raw",
   "id": "c8c45634-c784-49f0-8262-383c5e87ba85",
   "metadata": {},
   "source": [
    "# BEGIN QUESTION\n",
    "name: q2\n",
    "points: 5\n",
    "export: true"
   ]
  },
  {
   "cell_type": "raw",
   "id": "8024eeed-3853-4190-8b27-1a3060aec458",
   "metadata": {},
   "source": [
    "# BEGIN SOLUTION"
   ]
  },
  {
   "cell_type": "code",
   "execution_count": null,
   "id": "e5880e23",
   "metadata": {},
   "outputs": [],
   "source": [
    "def number_of_heads(N):\n",
    "    \"\"\"Generate N coin flips and return the number of heads\"\"\"\n",
    "    # BEGIN SOLUTION\n",
    "    flips = np.random.randint(low = 0, high = 2, size = N)\n",
    "    num_heads = flips.sum()\n",
    "    # END SOLUTION\n",
    "    return num_heads"
   ]
  },
  {
   "cell_type": "raw",
   "id": "810c2189-39ca-4862-b955-f84482d4a273",
   "metadata": {},
   "source": [
    "# END SOLUTION"
   ]
  },
  {
   "cell_type": "raw",
   "id": "57db9c5d-065c-4367-95af-8aa1c2965271",
   "metadata": {},
   "source": [
    "# BEGIN TESTS"
   ]
  },
  {
   "cell_type": "code",
   "execution_count": null,
   "id": "1cd95214-aa17-4739-b127-3db57a32ec2b",
   "metadata": {},
   "outputs": [],
   "source": [
    "def test_num_heads(number_of_heads):\n",
    "    assert number_of_heads(10) in list(range(11))\n",
    "    assert number_of_heads(100) in list(range(10,91))\n",
    "\n",
    "\n",
    "test_num_heads(number_of_heads)"
   ]
  },
  {
   "cell_type": "code",
   "execution_count": null,
   "id": "4e8b12bc-9f85-4033-ad3c-efd04d214166",
   "metadata": {},
   "outputs": [],
   "source": [
    "# HIDDEN\n",
    "def test_higher_num_heads(number_of_heads):\n",
    "    assert number_of_heads(1000) in list(range(250,750))\n",
    "    assert number_of_heads(10000) in list(range(4000,6000))\n",
    "\n",
    "\n",
    "test_higher_num_heads(number_of_heads)"
   ]
  },
  {
   "cell_type": "raw",
   "id": "e5f7b680-87f4-4c78-8acc-5be7e1b9bc0f",
   "metadata": {},
   "source": [
    "# END TESTS"
   ]
  },
  {
   "cell_type": "raw",
   "id": "4bda56c2-c13c-4265-a7cf-ef0672ae2b4d",
   "metadata": {},
   "source": [
    "# END QUESTION"
   ]
  },
  {
   "cell_type": "markdown",
   "id": "f9d44057",
   "metadata": {},
   "source": [
    "How likely do you think it is to see a result of at least $600$ heads out of $1000$ flips? Do you think it's somewhat unlikely, very unlikely, or extremely unlikely?"
   ]
  },
  {
   "cell_type": "code",
   "execution_count": null,
   "id": "fbf62074",
   "metadata": {},
   "outputs": [],
   "source": [
    "# Put your answer to Problem 2b here\n",
    "\n",
    "free_response = '...'\n",
    "\n",
    "print(free_response)"
   ]
  },
  {
   "cell_type": "code",
   "execution_count": null,
   "id": "6aa5ff00",
   "metadata": {},
   "outputs": [],
   "source": []
  }
 ],
 "metadata": {
  "kernelspec": {
   "display_name": "Python 3 (ipykernel)",
   "language": "python",
   "name": "python3"
  },
  "language_info": {
   "codemirror_mode": {
    "name": "ipython",
    "version": 3
   },
   "file_extension": ".py",
   "mimetype": "text/x-python",
   "name": "python",
   "nbconvert_exporter": "python",
   "pygments_lexer": "ipython3",
   "version": "3.11.8"
  }
 },
 "nbformat": 4,
 "nbformat_minor": 5
}
