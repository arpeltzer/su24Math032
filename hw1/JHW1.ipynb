{
 "cells": [
  {
   "cell_type": "code",
   "execution_count": null,
   "id": "8fd42b65",
   "metadata": {
    "deletable": false,
    "editable": false
   },
   "outputs": [],
   "source": [
    "# Initialize Otter\n",
    "import otter\n",
    "grader = otter.Notebook(\"JHW1.ipynb\")"
   ]
  },
  {
   "cell_type": "markdown",
   "id": "c55320a1-251e-43d7-aba4-cd2460f015a5",
   "metadata": {},
   "source": [
    "<h2> Jupyter Homework Week 1 </h2>\n",
    "\n",
    "### Introduction to using Jupyter \n",
    "\n",
    "This notebook is meant to give you an introduction to using Jupyter.\n",
    "\n",
    "This notebook has a couple of questions that introduce you to the process of using Python code to answer questions, along with the particular syntax. If you're interested in learning more about the details of coding in Python, [this tutorial](https://www.w3schools.com/python/) is a great starting point.\n",
    "\n",
    "Let's get started!"
   ]
  },
  {
   "cell_type": "markdown",
   "id": "1130b99f-a841-4bce-a3d2-22c7a1ad54c9",
   "metadata": {},
   "source": [
    "<h3> Part 1: Computing a sum with Python </h3>\n",
    "\n",
    "In previous courses, you probability computed sums with sigma notation; for example,\n",
    "$$\\sum_{n = 1}^{1000} \\frac{1}{n} = \\frac 1 1 + \\frac 1 2 + \\frac 1 3 + \\cdots \\frac{1}{1000}.$$\n",
    "These can get extremely cumbersome to compute by hand, but are easily handled by a computer using a [for loop](https://www.w3schools.com/python/python_for_loops.asp). The Python code that will compute this sum is below, with a lot of comments. Comments are placed on lines using \\#, and are not interpreted as code."
   ]
  },
  {
   "cell_type": "code",
   "execution_count": null,
   "id": "541b55e7-8e68-4545-a0f6-855bfa7769ec",
   "metadata": {},
   "outputs": [],
   "source": [
    "# initialize the sum\n",
    "def sum_of_reciprocals(N):\n",
    "    \"\"\"Generate the sum of the first N recipricals, for n=1,...,N\"\"\"\n",
    "    # initialize the sum\n",
    "    s = 0\n",
    "    # run a for loop that adds 1/n each\n",
    "    for n in range(1, N + 1):\n",
    "        s = s + 1/n\n",
    "    return s\n",
    "print(sum_of_reciprocals(1000))"
   ]
  },
  {
   "cell_type": "markdown",
   "id": "70aad6cf",
   "metadata": {},
   "source": [
    "### Problem 1a"
   ]
  },
  {
   "cell_type": "markdown",
   "id": "dbbcb83c-125c-4e71-827b-3f013c6ac463",
   "metadata": {},
   "source": [
    "So the sum of the first $1000$ numbers is about $7.49$. Now it's your turn; **answer the following two questions**.\n",
    "\n",
    "* Create a function that calculates $\\sum\\limits_{n = 1}^{N} n^3$. Note that in Python, $a^b$ is written as `a**b`.\n",
    "\n"
   ]
  },
  {
   "cell_type": "markdown",
   "id": "9d458bd4",
   "metadata": {
    "deletable": false,
    "editable": false
   },
   "source": [
    "<!-- BEGIN QUESTION -->\n",
    "\n"
   ]
  },
  {
   "cell_type": "code",
   "execution_count": null,
   "id": "084c75e7",
   "metadata": {
    "tags": []
   },
   "outputs": [],
   "source": [
    "# Put your answer to Problem 1a here\n",
    "def sum_of_cubes(N):\n",
    "    \"\"\"Generate the sum of the first N cubes, for n=1,...,N\"\"\"\n",
    "    ...\n",
    "    return s"
   ]
  },
  {
   "cell_type": "code",
   "execution_count": null,
   "id": "0a72d365",
   "metadata": {
    "deletable": false,
    "editable": false
   },
   "outputs": [],
   "source": [
    "grader.check(\"q1a\")"
   ]
  },
  {
   "cell_type": "markdown",
   "id": "12b2e540-060b-4e40-b7c1-77dc3230bfd5",
   "metadata": {
    "deletable": false,
    "editable": false
   },
   "source": [
    "<!-- END QUESTION -->\n",
    "\n",
    "### Problem 1b\n",
    "\n",
    "\n",
    "Now create a function that calculates $\\sum\\limits_{n = 1}^{N} \\frac{1}{n^2}$."
   ]
  },
  {
   "cell_type": "markdown",
   "id": "42cfdfc0",
   "metadata": {
    "deletable": false,
    "editable": false
   },
   "source": [
    "<!-- BEGIN QUESTION -->\n",
    "\n"
   ]
  },
  {
   "cell_type": "code",
   "execution_count": null,
   "id": "0eb28d03-b647-4378-990b-14c50852eca4",
   "metadata": {
    "tags": []
   },
   "outputs": [],
   "source": [
    "# Put your answer to Problem 1a here\n",
    "def sum_of_square_inverses(N):\n",
    "    \"\"\"Generate the sum of the first N inverse of squares, for n=1,...,N\"\"\"\n",
    "    ...\n",
    "    return s\n",
    "print(sum_of_square_inverses(20))\n",
    "print(sum_of_square_inverses(100))"
   ]
  },
  {
   "cell_type": "code",
   "execution_count": null,
   "id": "937345da",
   "metadata": {
    "deletable": false,
    "editable": false
   },
   "outputs": [],
   "source": [
    "grader.check(\"q1b\")"
   ]
  },
  {
   "cell_type": "markdown",
   "id": "3511abcd-16cf-4b22-8d20-9adcb77e499f",
   "metadata": {
    "deletable": false,
    "editable": false
   },
   "source": [
    "<!-- END QUESTION -->\n",
    "\n",
    "<h3> Part 2: Generating random numbers with Python </h3>\n",
    "\n",
    "For this, we will use the [numpy](https://numpy.org) package, although there are many choices for generating random numbers using python.\n",
    "\n",
    "Here is the documentation for the [randint()](https://numpy.org/doc/stable/reference/random/generated/numpy.random.randint.html) function we will be using."
   ]
  },
  {
   "cell_type": "code",
   "execution_count": null,
   "id": "aa7f79fc-0f1f-43cf-8d39-8a91e9a165ba",
   "metadata": {},
   "outputs": [],
   "source": [
    "import numpy as np\n",
    "# choose either 0 or 1\n",
    "flip = np.random.randint(low = 0 , high = 2)\n",
    "print(flip)"
   ]
  },
  {
   "cell_type": "markdown",
   "id": "0996ed87",
   "metadata": {},
   "source": [
    "For this problem, we will think of 0 as Tails and 1 as Heads"
   ]
  },
  {
   "cell_type": "code",
   "execution_count": null,
   "id": "fbe9bfa3",
   "metadata": {},
   "outputs": [],
   "source": [
    "flips = np.random.randint(low = 0, high = 2, size = 100)\n",
    "num_heads = flips.sum()\n",
    "print(f'Number of heads = {num_heads}')"
   ]
  },
  {
   "cell_type": "markdown",
   "id": "048304ad",
   "metadata": {},
   "source": [
    "### Problem 2"
   ]
  },
  {
   "cell_type": "markdown",
   "id": "decbc1a7-7f6d-4179-8dd2-eb569d804056",
   "metadata": {},
   "source": [
    "Suppose you flip $1000$ coins and record the number of heads.\n",
    "Do this experiment $10$ times; what's the largest number of heads that you recorded in those ten runs?\n"
   ]
  },
  {
   "cell_type": "markdown",
   "id": "293bd010",
   "metadata": {
    "deletable": false,
    "editable": false
   },
   "source": [
    "<!-- BEGIN QUESTION -->\n",
    "\n"
   ]
  },
  {
   "cell_type": "code",
   "execution_count": null,
   "id": "e5880e23",
   "metadata": {
    "tags": []
   },
   "outputs": [],
   "source": [
    "def number_of_heads(N):\n",
    "    \"\"\"Generate N coin flips and return the number of heads\"\"\"\n",
    "    ...\n",
    "    return num_heads"
   ]
  },
  {
   "cell_type": "code",
   "execution_count": null,
   "id": "9e9743e1",
   "metadata": {
    "deletable": false,
    "editable": false
   },
   "outputs": [],
   "source": [
    "grader.check(\"q2\")"
   ]
  },
  {
   "cell_type": "markdown",
   "id": "f9d44057",
   "metadata": {
    "deletable": false,
    "editable": false
   },
   "source": [
    "<!-- END QUESTION -->\n",
    "\n",
    "How likely do you think it is to see a result of at least $600$ heads out of $1000$ flips? Do you think it's somewhat unlikely, very unlikely, or extremely unlikely?"
   ]
  },
  {
   "cell_type": "code",
   "execution_count": null,
   "id": "fbf62074",
   "metadata": {},
   "outputs": [],
   "source": [
    "# Put your answer to Problem 2b here\n",
    "\n",
    "free_response = '...'\n",
    "\n",
    "print(free_response)"
   ]
  },
  {
   "cell_type": "code",
   "execution_count": null,
   "id": "6aa5ff00",
   "metadata": {},
   "outputs": [],
   "source": []
  },
  {
   "cell_type": "markdown",
   "id": "ced5cb44",
   "metadata": {
    "deletable": false,
    "editable": false
   },
   "source": [
    "## Submission\n",
    "\n",
    "Make sure you have run all cells in your notebook in order before running the cell below, so that all images/graphs appear in the output. The cell below will generate a zip file for you to submit. **Please save before exporting!**"
   ]
  },
  {
   "cell_type": "code",
   "execution_count": null,
   "id": "eec0187b",
   "metadata": {
    "deletable": false,
    "editable": false
   },
   "outputs": [],
   "source": [
    "# Save your notebook first, then run this cell to export your submission.\n",
    "grader.export(run_tests=True)"
   ]
  },
  {
   "cell_type": "markdown",
   "id": "aea50d1f",
   "metadata": {},
   "source": [
    " "
   ]
  }
 ],
 "metadata": {
  "kernelspec": {
   "display_name": "Python 3 (ipykernel)",
   "language": "python",
   "name": "python3"
  },
  "language_info": {
   "codemirror_mode": {
    "name": "ipython",
    "version": 3
   },
   "file_extension": ".py",
   "mimetype": "text/x-python",
   "name": "python",
   "nbconvert_exporter": "python",
   "pygments_lexer": "ipython3",
   "version": "3.11.8"
  },
  "otter": {
   "OK_FORMAT": true,
   "tests": {
    "q1a": {
     "name": "q1a",
     "points": 5,
     "suites": [
      {
       "cases": [
        {
         "code": ">>> def test_low_cubes(sum_of_cubes):\n...     assert sum_of_cubes(1) == 1\n...     assert sum_of_cubes(10) == 3025\n...     assert sum_of_cubes(50) == 1625625\n>>> test_low_cubes(sum_of_cubes)\n",
         "hidden": false,
         "locked": false
        }
       ],
       "scored": true,
       "setup": "",
       "teardown": "",
       "type": "doctest"
      }
     ]
    },
    "q1b": {
     "name": "q1b",
     "points": 5,
     "suites": [
      {
       "cases": [
        {
         "code": ">>> def test_low_square_inverse(sum_of_square_inverses):\n...     assert sum_of_square_inverses(1) == 1.0\n...     assert abs(sum_of_square_inverses(10) - 1.549) < 0.01\n...     assert abs(sum_of_square_inverses(20) - 1.596) < 0.01\n>>> test_low_square_inverse(sum_of_square_inverses)\n",
         "hidden": false,
         "locked": false
        }
       ],
       "scored": true,
       "setup": "",
       "teardown": "",
       "type": "doctest"
      }
     ]
    },
    "q2": {
     "name": "q2",
     "points": 5,
     "suites": [
      {
       "cases": [
        {
         "code": ">>> def test_num_heads(number_of_heads):\n...     assert number_of_heads(10) in list(range(11))\n...     assert number_of_heads(100) in list(range(10, 91))\n>>> test_num_heads(number_of_heads)\n",
         "hidden": false,
         "locked": false
        }
       ],
       "scored": true,
       "setup": "",
       "teardown": "",
       "type": "doctest"
      }
     ]
    }
   }
  }
 },
 "nbformat": 4,
 "nbformat_minor": 5
}
