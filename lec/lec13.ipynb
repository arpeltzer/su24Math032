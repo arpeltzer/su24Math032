{
 "cells": [
  {
   "cell_type": "markdown",
   "id": "49b6f57b-1d64-4b0d-b62d-4b9e5f3261bd",
   "metadata": {},
   "source": [
    "# Friday, July 5th -- Math 032\n",
    "\n",
    "## Lecture In-Class Notes"
   ]
  },
  {
   "cell_type": "markdown",
   "id": "3dd9caa4-ee28-4021-8e12-fbfedafc602a",
   "metadata": {},
   "source": [
    "### Example 1"
   ]
  },
  {
   "cell_type": "markdown",
   "id": "cddb1c49-1f79-4670-abb9-68ca166bff17",
   "metadata": {},
   "source": [
    "One of the Homework 3 problems asks us to calculate the probability $P(1 \\leq Z \\leq 3)$, where $Z$ is a standard normal random variable. We can calculcate this using `norm` from the `scipy.stats` package."
   ]
  },
  {
   "cell_type": "code",
   "execution_count": 24,
   "id": "c337e1ea-01eb-43b0-8a05-d8765f19ce7e",
   "metadata": {},
   "outputs": [],
   "source": [
    "# import the right package\n",
    "from scipy.stats import norm"
   ]
  },
  {
   "cell_type": "markdown",
   "id": "19e06575-37c1-4aea-acf6-2709282f6185",
   "metadata": {},
   "source": [
    "Set the mean and standard deviation"
   ]
  },
  {
   "cell_type": "code",
   "execution_count": 25,
   "id": "d91c3450-e7a4-4159-8c73-aead00a44049",
   "metadata": {},
   "outputs": [],
   "source": [
    "mu = 0\n",
    "sigma = 1"
   ]
  },
  {
   "cell_type": "markdown",
   "id": "1bdc9141-c5d8-44ae-b8e5-a58a6f4eb700",
   "metadata": {},
   "source": [
    "Calculate the cdf"
   ]
  },
  {
   "cell_type": "code",
   "execution_count": 26,
   "id": "ab1275c9-df1f-40bb-8179-1a4bda1b0a65",
   "metadata": {},
   "outputs": [
    {
     "data": {
      "text/plain": [
       "0.9986501019683699"
      ]
     },
     "execution_count": 26,
     "metadata": {},
     "output_type": "execute_result"
    }
   ],
   "source": [
    "norm.cdf(3,mu,sigma)"
   ]
  },
  {
   "cell_type": "code",
   "execution_count": 27,
   "id": "ae6a45f1-a2cb-4df4-a800-c94afe9a0412",
   "metadata": {},
   "outputs": [
    {
     "data": {
      "text/plain": [
       "0.15730535589982697"
      ]
     },
     "execution_count": 27,
     "metadata": {},
     "output_type": "execute_result"
    }
   ],
   "source": [
    "# P(1 <= Z <=3)\n",
    "\n",
    "norm.cdf(3,mu,sigma) - norm.cdf(1,mu,sigma)"
   ]
  },
  {
   "cell_type": "markdown",
   "id": "d5e2a9f8-9a0b-4d00-b746-5ca4691ec4db",
   "metadata": {},
   "source": [
    "Compare that to the in-class answer using Table B.1, which gave $.1575$"
   ]
  },
  {
   "cell_type": "markdown",
   "id": "d8c119fb-0d9b-434b-938f-a0c2882222a8",
   "metadata": {},
   "source": [
    "### Example 2"
   ]
  },
  {
   "cell_type": "markdown",
   "id": "bfab8a79-14d4-418d-8d79-7e62e965bf7b",
   "metadata": {},
   "source": [
    "In Lecture today, we considered the following problem:\n",
    "\n",
    "\n",
    "\"Suppose we generate $100$ random numbers uniformly from $[0,1]$. What is the probability that at least one of them is at least $0.95$?\n",
    "\n",
    "Let's use *sampling* to estimate the probability."
   ]
  },
  {
   "cell_type": "code",
   "execution_count": 19,
   "id": "b7e629af-ffb5-42aa-b232-b01ded0121b9",
   "metadata": {},
   "outputs": [
    {
     "name": "stdout",
     "output_type": "stream",
     "text": [
      "0.99421\n"
     ]
    }
   ],
   "source": [
    "# generate 100K samples of 100 uniform 0,1\n",
    "num_samples = 100000\n",
    "\n",
    "# initialize a count variable\n",
    "count = 0\n",
    "for _ in range(num_samples):\n",
    "    U_samples = np.random.uniform(size = (100))\n",
    "    # if at least one of the 100 is bigger than 0.95, add 1 to count\n",
    "    if (U_samples>= 0.95).sum() > 0:\n",
    "        count += 1\n",
    "print(count/num_samples)"
   ]
  },
  {
   "cell_type": "markdown",
   "id": "93e25c7d-4b45-4c28-8450-97c623978591",
   "metadata": {},
   "source": [
    "Explaining the For-Loop:\n",
    "\n",
    "At every iteration, we create the following *boolean array*."
   ]
  },
  {
   "cell_type": "code",
   "execution_count": 22,
   "id": "64b7ec1d-1118-413c-9f3c-4fd9108aefaf",
   "metadata": {},
   "outputs": [
    {
     "data": {
      "text/plain": [
       "array([False, False, False, False, False, False, False, False, False,\n",
       "       False, False, False, False, False, False, False,  True, False,\n",
       "       False, False, False, False, False, False, False, False, False,\n",
       "       False, False, False, False, False, False, False, False, False,\n",
       "       False, False, False, False, False, False, False, False, False,\n",
       "       False, False, False, False, False, False, False, False, False,\n",
       "       False, False, False, False, False, False, False, False,  True,\n",
       "       False, False, False, False, False,  True, False, False, False,\n",
       "       False, False, False, False, False, False, False, False, False,\n",
       "       False, False, False, False, False, False, False, False, False,\n",
       "       False,  True, False, False, False, False, False, False, False,\n",
       "       False])"
      ]
     },
     "execution_count": 22,
     "metadata": {},
     "output_type": "execute_result"
    }
   ],
   "source": [
    "(U_samples>= 0.95)"
   ]
  },
  {
   "cell_type": "markdown",
   "id": "305595fe-7099-48d6-b8e6-e335908559f6",
   "metadata": {},
   "source": [
    "If *at least one* of the entries is **True**, then `(U_samples>= 0.95).sum()` will be greater than 0 (hence, we'll at one to `count`). This is how we estimate the *frequency* at which this occurs."
   ]
  },
  {
   "cell_type": "code",
   "execution_count": null,
   "id": "ca9f6400-60e6-4e90-ba8e-87533e64ac80",
   "metadata": {},
   "outputs": [],
   "source": []
  }
 ],
 "metadata": {
  "kernelspec": {
   "display_name": "Python 3 (ipykernel)",
   "language": "python",
   "name": "python3"
  },
  "language_info": {
   "codemirror_mode": {
    "name": "ipython",
    "version": 3
   },
   "file_extension": ".py",
   "mimetype": "text/x-python",
   "name": "python",
   "nbconvert_exporter": "python",
   "pygments_lexer": "ipython3",
   "version": "3.11.8"
  }
 },
 "nbformat": 4,
 "nbformat_minor": 5
}
