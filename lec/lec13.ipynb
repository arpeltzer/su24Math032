{
 "cells": [
  {
   "cell_type": "markdown",
   "id": "49b6f57b-1d64-4b0d-b62d-4b9e5f3261bd",
   "metadata": {},
   "source": [
    "# Friday, July 5th -- Math 032\n",
    "\n",
    "## Lecture In-Class Notes"
   ]
  },
  {
   "cell_type": "markdown",
   "id": "3dd9caa4-ee28-4021-8e12-fbfedafc602a",
   "metadata": {},
   "source": [
    "### Example 1"
   ]
  },
  {
   "cell_type": "markdown",
   "id": "cddb1c49-1f79-4670-abb9-68ca166bff17",
   "metadata": {},
   "source": [
    "One of the Homework 3 problems asks us to calculate the probability $P(1 \\leq Z \\leq 3)$, where $Z$ is a standard normal random variable. We can calculcate this using `norm` from the `scipy.stats` package."
   ]
  },
  {
   "cell_type": "code",
   "execution_count": null,
   "id": "c337e1ea-01eb-43b0-8a05-d8765f19ce7e",
   "metadata": {},
   "outputs": [],
   "source": [
    "# import the right package\n",
    "from scipy.stats import norm"
   ]
  },
  {
   "cell_type": "markdown",
   "id": "19e06575-37c1-4aea-acf6-2709282f6185",
   "metadata": {},
   "source": [
    "Set the mean and standard deviation"
   ]
  },
  {
   "cell_type": "code",
   "execution_count": null,
   "id": "d91c3450-e7a4-4159-8c73-aead00a44049",
   "metadata": {},
   "outputs": [],
   "source": [
    "mu = ...\n",
    "sigma = ..."
   ]
  },
  {
   "cell_type": "markdown",
   "id": "1bdc9141-c5d8-44ae-b8e5-a58a6f4eb700",
   "metadata": {},
   "source": [
    "Calculate $P(Z\\leq 3)$ and $P(1 \\leq Z\\leq 3)$ using `norm.cdf`"
   ]
  },
  {
   "cell_type": "code",
   "execution_count": null,
   "id": "ab1275c9-df1f-40bb-8179-1a4bda1b0a65",
   "metadata": {},
   "outputs": [],
   "source": [
    "# P(Z <= 3)\n",
    "..."
   ]
  },
  {
   "cell_type": "code",
   "execution_count": null,
   "id": "ae6a45f1-a2cb-4df4-a800-c94afe9a0412",
   "metadata": {},
   "outputs": [],
   "source": [
    "# P(1 <= Z <=3)\n",
    "..."
   ]
  },
  {
   "cell_type": "markdown",
   "id": "d5e2a9f8-9a0b-4d00-b746-5ca4691ec4db",
   "metadata": {},
   "source": [
    "Compare that to the in-class answer using Table B.1, which gave $.1575$"
   ]
  },
  {
   "cell_type": "markdown",
   "id": "d8c119fb-0d9b-434b-938f-a0c2882222a8",
   "metadata": {},
   "source": [
    "### Example 2"
   ]
  },
  {
   "cell_type": "markdown",
   "id": "bfab8a79-14d4-418d-8d79-7e62e965bf7b",
   "metadata": {},
   "source": [
    "In Lecture today, we considered the following problem:\n",
    "\n",
    "\n",
    "\"Suppose we generate $100$ random numbers uniformly from $[0,1]$. What is the probability that at least one of them is bigger than $0.95$?\n",
    "\n",
    "Let's use *sampling* to estimate the probability."
   ]
  },
  {
   "cell_type": "code",
   "execution_count": null,
   "id": "b7e629af-ffb5-42aa-b232-b01ded0121b9",
   "metadata": {},
   "outputs": [],
   "source": [
    "# generate 100K samples of 100 uniform 0,1\n",
    "num_samples = ...\n",
    "\n",
    "# initialize a count variable\n",
    "count = ...\n",
    "for _ in range(num_samples):\n",
    "    U_samples = np.random.uniform(size = ...)\n",
    "    # if at least one of the 100 is bigger than 0.95, add 1 to count\n",
    "    if ...\n",
    "        ...\n",
    "print(count/num_samples)"
   ]
  }
 ],
 "metadata": {
  "kernelspec": {
   "display_name": "Python 3 (ipykernel)",
   "language": "python",
   "name": "python3"
  },
  "language_info": {
   "codemirror_mode": {
    "name": "ipython",
    "version": 3
   },
   "file_extension": ".py",
   "mimetype": "text/x-python",
   "name": "python",
   "nbconvert_exporter": "python",
   "pygments_lexer": "ipython3",
   "version": "3.11.8"
  }
 },
 "nbformat": 4,
 "nbformat_minor": 5
}
