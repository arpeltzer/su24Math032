{
 "cells": [
  {
   "cell_type": "markdown",
   "id": "5ca768b1",
   "metadata": {},
   "source": [
    "# Math 032 - Summer 2024\n",
    "## Authors: Chat GPT and Adrien Peltzer"
   ]
  },
  {
   "cell_type": "markdown",
   "id": "b1690e39",
   "metadata": {},
   "source": [
    "### Introduction\n",
    "In this notebook, we will illustrate the Central Limit Theorem (CLT) by sampling from a specific distribution and plotting the resulting normalized sample means. The Central Limit Theorem states that the distribution of sample means will approximate a normal distribution as the sample size becomes large, regardless of the shape of the original distribution."
   ]
  },
  {
   "cell_type": "markdown",
   "id": "722ff6de",
   "metadata": {},
   "source": [
    "### Parameters\n",
    "- `n_samples`: Number of samples to generate\n",
    "- `sample_size`: Size of each sample\n",
    "- `distribution`: Type of distribution to sample from ('uniform' or 'normal')"
   ]
  },
  {
   "cell_type": "code",
   "execution_count": null,
   "id": "7d3df24b",
   "metadata": {},
   "outputs": [],
   "source": [
    "import numpy as np\n",
    "import matplotlib.pyplot as plt\n",
    "import scipy.stats as stats\n",
    "\n",
    "# Parameters\n",
    "n_samples = 1000  # Number of samples\n",
    "sample_size = 30  # Size of each sample\n",
    "distribution = 'uniform'  # Can be 'uniform' or 'normal'"
   ]
  },
  {
   "cell_type": "markdown",
   "id": "b0d0336c",
   "metadata": {},
   "source": [
    "### Sampling from the specified distribution\n",
    "We will sample from the specified distribution (`uniform` or `normal`). You can change the distribution type by modifying the `distribution` variable."
   ]
  },
  {
   "cell_type": "code",
   "execution_count": null,
   "id": "8bc524b2",
   "metadata": {},
   "outputs": [],
   "source": [
    "# Sampling from the specified distribution\n",
    "if distribution == 'uniform':\n",
    "    samples = np.random.uniform(0, 1, (n_samples, sample_size))\n",
    "elif distribution == 'normal':\n",
    "    samples = np.random.normal(0, 1, (n_samples, sample_size))\n",
    "else:\n",
    "    raise ValueError(\"Unsupported distribution type. Choose 'uniform' or 'normal'.\")"
   ]
  },
  {
   "cell_type": "markdown",
   "id": "0632cf2d",
   "metadata": {},
   "source": [
    "### Calculating sample means\n",
    "Next, we calculate the means of the samples."
   ]
  },
  {
   "cell_type": "code",
   "execution_count": null,
   "id": "d587a89a",
   "metadata": {},
   "outputs": [],
   "source": [
    "# Calculating sample means\n",
    "sample_means = np.mean(samples, axis=1)"
   ]
  },
  {
   "cell_type": "markdown",
   "id": "392e9fe4",
   "metadata": {},
   "source": [
    "### Normalizing the sample means\n",
    "We normalize the sample means to have a mean of 0 and a standard deviation of 1."
   ]
  },
  {
   "cell_type": "code",
   "execution_count": null,
   "id": "10efc2e9",
   "metadata": {},
   "outputs": [],
   "source": [
    "# Normalizing the sample means\n",
    "normalized_sample_means = (sample_means - np.mean(sample_means)) / np.std(sample_means)"
   ]
  },
  {
   "cell_type": "markdown",
   "id": "cf7d9741",
   "metadata": {},
   "source": [
    "### Plotting the results\n",
    "Finally, we plot a histogram of the normalized sample means and overlay the standard normal distribution (bell curve)."
   ]
  },
  {
   "cell_type": "code",
   "execution_count": null,
   "id": "c2d67f7e",
   "metadata": {},
   "outputs": [],
   "source": [
    "# Plotting\n",
    "plt.figure(figsize=(12, 6))\n",
    "\n",
    "# Histogram of normalized sample means\n",
    "plt.hist(normalized_sample_means, bins=30, density=True, alpha=0.6, color='g')\n",
    "\n",
    "# Plotting the bell curve (Standard Normal Distribution)\n",
    "xmin, xmax = plt.xlim()\n",
    "x = np.linspace(xmin, xmax, 100)\n",
    "p = stats.norm.pdf(x, 0, 1)\n",
    "plt.plot(x, p, 'k', linewidth=2)\n",
    "\n",
    "title = 'Central Limit Theorem Illustration'\\\n",
    "        '\\n(Sampling from a {} distribution)'.format(distribution)\n",
    "plt.title(title)\n",
    "plt.xlabel('Normalized Sample Mean')\n",
    "plt.ylabel('Frequency')\n",
    "plt.grid(True)\n",
    "plt.show()"
   ]
  },
  {
   "cell_type": "markdown",
   "id": "15ba16c4-dc12-45ee-ad7b-28d1f68de180",
   "metadata": {},
   "source": [
    "### Childhood Obesity Data"
   ]
  },
  {
   "cell_type": "markdown",
   "id": "affc183f-30d4-4f12-b191-a6f5921f13dc",
   "metadata": {},
   "source": [
    "We'd like to test if some *real-world data* is normally distributed. Let's look at this data from the NHANES website. "
   ]
  },
  {
   "cell_type": "code",
   "execution_count": null,
   "id": "be160712-f518-4344-bc1e-aa361dee75b0",
   "metadata": {},
   "outputs": [],
   "source": [
    "import pandas as pd\n",
    "import numpy as np\n",
    "import matplotlib.pyplot as plt\n",
    "import seaborn as sns\n",
    "from scipy.stats import shapiro, probplot"
   ]
  },
  {
   "cell_type": "code",
   "execution_count": null,
   "id": "811b9e90-74a7-4701-a1bb-90b7eb2f0d2b",
   "metadata": {},
   "outputs": [],
   "source": [
    "# Load the data\n",
    "data = pd.read_csv('NHANESChildObesity.csv')"
   ]
  },
  {
   "cell_type": "code",
   "execution_count": null,
   "id": "182ed457-a7c5-4f60-aa57-8f44cb556ae7",
   "metadata": {},
   "outputs": [],
   "source": [
    "# Extract the relevant columns\n",
    "columns_to_test = ['BMXWAIST', 'BMXWT']\n",
    "data_to_test = data[columns_to_test]\n",
    "\n",
    "# Perform the Shapiro-Wilk test for normality\n",
    "for column in columns_to_test:\n",
    "    stat, p = shapiro(data_to_test[column])\n",
    "    print(f'{column} - Statistics={stat}, p={p}')\n",
    "    if p > 0.05:\n",
    "        print(f'{column} looks Gaussian (fail to reject H0)')\n",
    "    else:\n",
    "        print(f'{column} does not look Gaussian (reject H0)')\n"
   ]
  },
  {
   "cell_type": "code",
   "execution_count": null,
   "id": "4b99b685-1e6f-441d-afca-6c63329e9306",
   "metadata": {},
   "outputs": [],
   "source": [
    "\n",
    "# Visualizations\n",
    "for column in columns_to_test:\n",
    "    plt.figure(figsize=(12, 6))\n",
    "\n",
    "    # Histogram\n",
    "    plt.subplot(1, 2, 1)\n",
    "    sns.histplot(data_to_test[column], kde=True)\n",
    "    plt.title(f'Histogram of {column}')\n",
    "\n",
    "    # Q-Q plot\n",
    "    plt.subplot(1, 2, 2)\n",
    "    probplot(data_to_test[column], dist=\"norm\", plot=plt)\n",
    "    plt.title(f'Q-Q Plot of {column}')\n",
    "\n",
    "    plt.tight_layout()\n",
    "    plt.show()\n"
   ]
  }
 ],
 "metadata": {
  "kernelspec": {
   "display_name": "Python 3 (ipykernel)",
   "language": "python",
   "name": "python3"
  },
  "language_info": {
   "codemirror_mode": {
    "name": "ipython",
    "version": 3
   },
   "file_extension": ".py",
   "mimetype": "text/x-python",
   "name": "python",
   "nbconvert_exporter": "python",
   "pygments_lexer": "ipython3",
   "version": "3.11.8"
  }
 },
 "nbformat": 4,
 "nbformat_minor": 5
}
