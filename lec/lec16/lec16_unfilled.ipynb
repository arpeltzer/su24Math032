{
 "cells": [
  {
   "cell_type": "markdown",
   "id": "35075e8a-b4f4-4393-b9d1-7b4fd4366fd3",
   "metadata": {},
   "source": [
    "<h2> Math 032 -- Exploring the Central Limit Theorem </h2>\n",
    "\n",
    "In this notebook, we're going to explore the central limit theorem. The **Central Limit Theorem** says that, for *iid* samples $X_1,X_2,...,X_n$ from a common distribution, and $\\overline{X}_n = \\frac{1}{n}\\sum_i X_i$ the sample mean,\n",
    "\n",
    "$$\\frac{\\overline{X}_n - \\mu}{\\sigma / \\sqrt{n}} \\to Z \\sim \\mathcal{N}(0,1)$$\n",
    "\n",
    "as $n\\to \\infty$.\n",
    "\n",
    "\n",
    "One neat way to visualize the Normal Distribution is through a [*Galton Board*](https://www.youtube.com/watch?v=EvHiee7gs9Y) (here is a [second link](https://www.youtube.com/watch?v=AwEaHCjgeXk))\n",
    "\n",
    "Just like last week, let's start by taking $n=30$ samples from a common distribution. This time from an *Exponential* with $\\lambda = 1/10$.\n"
   ]
  },
  {
   "cell_type": "code",
   "execution_count": null,
   "id": "361048e5-86ed-43b7-b592-01923d92ce3a",
   "metadata": {},
   "outputs": [],
   "source": [
    "import numpy as np\n",
    "import matplotlib.pyplot as plt\n",
    "import scipy"
   ]
  },
  {
   "cell_type": "code",
   "execution_count": null,
   "id": "10e0b8ef-51f4-445a-8591-7db1ee6eb65e",
   "metadata": {},
   "outputs": [],
   "source": [
    "n= ...\n",
    "num_samples = ...\n",
    "lamb = ..."
   ]
  },
  {
   "cell_type": "markdown",
   "id": "0ec1f97d",
   "metadata": {},
   "source": [
    "For an exponential distribution with parameter $\\lambda $, what is $\\mu$ and $\\sigma$?"
   ]
  },
  {
   "cell_type": "code",
   "execution_count": null,
   "id": "3b79d8b5",
   "metadata": {},
   "outputs": [],
   "source": [
    "mu = ...\n",
    "sigma = ..."
   ]
  },
  {
   "cell_type": "markdown",
   "id": "41126e92",
   "metadata": {},
   "source": [
    "Now let's sample from the distribution"
   ]
  },
  {
   "cell_type": "code",
   "execution_count": null,
   "id": "65e251c9-9864-431d-babc-6867d7a3c239",
   "metadata": {},
   "outputs": [],
   "source": [
    "samples = np.random.exponential(size = (num_samples,n),scale = 1/lamb)\n",
    "samples.shape"
   ]
  },
  {
   "cell_type": "code",
   "execution_count": null,
   "id": "e861301e-290a-4906-a0cb-37208140c066",
   "metadata": {},
   "outputs": [],
   "source": [
    "xbar_samples = ..."
   ]
  },
  {
   "cell_type": "markdown",
   "id": "d122b444-28b7-4815-b1c4-f859e42c6e59",
   "metadata": {},
   "source": [
    "Notice that if we use `samples.mean` and we add `axis = 1`, then the averaging is applied to each row, so that we have 10000 samples of $\\overline{X}_{30}$."
   ]
  },
  {
   "cell_type": "code",
   "execution_count": null,
   "id": "ab32c4f0-eaaf-4b2e-8de7-78d5d14d1a32",
   "metadata": {},
   "outputs": [],
   "source": [
    "xbar_samples.shape"
   ]
  },
  {
   "cell_type": "code",
   "execution_count": null,
   "id": "ffe0b937-4a35-404d-ac15-819676884b04",
   "metadata": {},
   "outputs": [],
   "source": [
    "# set the mean and standard deviation values\n",
    "lamb = ...\n",
    "n = ...\n",
    "mu = ...\n",
    "sigma = ...\n",
    "\n",
    "# Set the range of where to plot the normal density\n",
    "X = np.linspace(0,20,1000)\n",
    "density_curve = scipy.stats.norm.pdf(X,loc = mu, scale = sigma/n**.5)\n",
    "\n",
    "# plot the histogram and the density curve\n",
    "plt.hist(xbar_samples,bins = 30,density=True,label = 'xbar samples')\n",
    "plt.plot(X,density_curve,label = 'normal approximation')\n",
    "plt.legend()"
   ]
  },
  {
   "cell_type": "markdown",
   "id": "5ff761d0-9160-4cdf-a73a-145dc8d2367f",
   "metadata": {},
   "source": [
    "Great! Now let's *properly re-scale* $\\overline{X}$ to make it $Z = \\frac{\\overline{X}-\\mu}{\\sigma/\\sqrt{n}}$ and plot a corresponding bell curve next to it."
   ]
  },
  {
   "cell_type": "code",
   "execution_count": null,
   "id": "90a8dd95-d482-4aab-b5e2-611ae3a0596c",
   "metadata": {},
   "outputs": [],
   "source": [
    "# Set the range of where to plot the normal density\n",
    "X = np.linspace(-3,3,1000)\n",
    "density_curve = scipy.stats.norm.pdf(X,loc = 0, scale = 1)\n",
    "\n",
    "Z = (xbar_samples - mu)/(sigma/n**.5)\n",
    "plt.hist(Z,bins = 30,density=True,label = r'samples of $Z = \\frac{\\overline{X} - \\mu}{\\sigma/\\sqrt{n}}$')\n",
    "plt.plot(X,density_curve,label = 'normal approximation')\n",
    "plt.legend()"
   ]
  },
  {
   "cell_type": "markdown",
   "id": "7eb0a514-ea72-406e-b6c7-f44064d467cc",
   "metadata": {},
   "source": [
    "Notice how the samples are *centered* at $0$ and have standard deviation approximately $1$ now that we have normalized $\\overline{X}$ to $Z= \\frac{\\overline{X}_n - \\mu}{\\sigma / \\sqrt{n}}$."
   ]
  },
  {
   "cell_type": "markdown",
   "id": "efbb7689-f546-4205-9f39-28a1f7762705",
   "metadata": {},
   "source": [
    "### Going from $n=30$ to $n=200$\n",
    "\n",
    "Now let's set $n=200$ and estimate the probability that the average of $200$ exponential random variables with $\\lambda = 1/10$ is bigger than $10.2$."
   ]
  },
  {
   "cell_type": "code",
   "execution_count": null,
   "id": "89781288-b6c0-4188-8e56-46e470c89c50",
   "metadata": {},
   "outputs": [],
   "source": [
    "# Write a code that estimates the probability P(Xbar>10.2) when n = 300\n",
    "\n",
    "\n",
    "n= ...\n",
    "num_samples = ...\n",
    "lamb = ...\n",
    "\n",
    "samples = np.random.exponential(size = (num_samples,n),scale = 1/lamb)\n",
    "\n",
    "xbars = samples.mean(axis = 1)\n",
    "\n",
    "\n",
    "prob1 = (xbars>10.2).mean()\n",
    "print(prob1)"
   ]
  },
  {
   "cell_type": "markdown",
   "id": "2cd606a3-7fe8-47a7-8c70-38229e5f5bcb",
   "metadata": {},
   "source": [
    "### Compare this with the corresponding normal value\n",
    "\n",
    "Notice that \n",
    "\n",
    "\n",
    "$$P(\\overline{X} > 10.2) = P(\\overline{X} - 10 > 0.2)$$\n",
    "\n",
    "and then we can divide by $\\sigma / \\sqrt{n}$:\n",
    "$$P(\\frac{\\overline{X} - 10}{10/\\sqrt{200}} > \\frac{0.2}{10/\\sqrt{200}}) \\approx P(Z> 0.28)$$\n",
    "\n"
   ]
  },
  {
   "cell_type": "code",
   "execution_count": null,
   "id": "0a97ab7b-f430-4049-a565-a87e666f7345",
   "metadata": {},
   "outputs": [],
   "source": [
    "prob2 = 1-scipy.stats.norm.cdf(0.28)\n",
    "print(prob1,prob2)"
   ]
  },
  {
   "cell_type": "markdown",
   "id": "73c3c519-5eb7-43b5-9835-792d01eda0e2",
   "metadata": {},
   "source": [
    "### Using a Z table\n",
    "\n",
    "Use the table below to look up the value $P(Z > 0.28)$."
   ]
  },
  {
   "cell_type": "code",
   "execution_count": null,
   "id": "5521fd92-e615-4022-82fe-4e38f8ddb282",
   "metadata": {},
   "outputs": [],
   "source": [
    "### Chat GPT generated"
   ]
  },
  {
   "cell_type": "code",
   "execution_count": null,
   "id": "b796b9e1-ff98-4f6c-a185-d6157f2d398c",
   "metadata": {},
   "outputs": [],
   "source": [
    "import numpy as np\n",
    "import scipy.stats\n",
    "import matplotlib.pyplot as plt\n",
    "\n",
    "# Sample data (replace with your actual data)\n",
    "mu = 0  # population mean\n",
    "sigma = 1  # population standard deviation\n",
    "n = 30  # sample size\n",
    "xbar_samples = np.random.normal(mu, sigma / np.sqrt(n), 1000)  # generate sample data\n",
    "\n",
    "# Set the range of where to plot the normal density\n",
    "X = np.linspace(-3, 3, 1000)\n",
    "density_curve = scipy.stats.norm.pdf(X, loc=0, scale=1)\n",
    "\n",
    "Z = (xbar_samples - mu) / (sigma / n**0.5)\n",
    "bins = np.linspace(min(Z), max(Z), 31)  # 30 bins\n",
    "hist, bin_edges = np.histogram(Z, bins=bins, density=True)\n",
    "\n",
    "# Plot the histogram with conditional shading\n",
    "for i in range(len(bin_edges) - 1):\n",
    "    if bin_edges[i] > 0.28:\n",
    "        plt.bar((bin_edges[i] + bin_edges[i + 1]) / 2, hist[i], width=bin_edges[i + 1] - bin_edges[i], color='gray', edgecolor='black', alpha=0.7)\n",
    "    else:\n",
    "        plt.bar((bin_edges[i] + bin_edges[i + 1]) / 2, hist[i], width=bin_edges[i + 1] - bin_edges[i], color='blue', edgecolor='black', alpha=0.7)\n",
    "\n",
    "# Plot the normal approximation\n",
    "plt.plot(X, density_curve, label='normal approximation')\n",
    "plt.legend()\n",
    "\n",
    "\n",
    "plt.text(2, 0.1, 'Z > 0.28', fontsize=12, color='gray')\n",
    "plt.text(-3.2, 0.1, 'Z <= 0.28', fontsize=12, color='blue')\n",
    "\n",
    "plt.show()"
   ]
  },
  {
   "cell_type": "markdown",
   "id": "f715fc07",
   "metadata": {},
   "source": [
    "### Z-table\n",
    "<img src=\"images/z-table.png\" style=\"float: center; width: 40%\">"
   ]
  },
  {
   "cell_type": "markdown",
   "id": "c3c2cea8-845e-455f-88cd-ea54fb917e2e",
   "metadata": {},
   "source": [
    "### Tablet time:\n",
    "\n",
    "We will go over the following examples on ipad."
   ]
  },
  {
   "cell_type": "markdown",
   "id": "65d53690",
   "metadata": {},
   "source": [
    "### Example 1\n",
    "\n",
    "Estimate the Probability that, with $n=30$ samples of exponential with $\\lambda = 1/5$, $$P(\\overline{X} > 5.3)$$"
   ]
  },
  {
   "cell_type": "markdown",
   "id": "ab85e67f",
   "metadata": {},
   "source": [
    "\n",
    "Estimate the Probability that, with $n=60$ samples of exponential with $\\lambda = 1/5$, $$P(\\overline{X} > 5.15)$$"
   ]
  },
  {
   "cell_type": "markdown",
   "id": "efcda750",
   "metadata": {},
   "source": [
    "### Example 2\n",
    "<img src=\"images/p2.png\" style=\"float: center; width: 40%\">"
   ]
  },
  {
   "cell_type": "markdown",
   "id": "10c5cdfa",
   "metadata": {},
   "source": []
  }
 ],
 "metadata": {
  "kernelspec": {
   "display_name": "Python 3 (ipykernel)",
   "language": "python",
   "name": "python3"
  },
  "language_info": {
   "codemirror_mode": {
    "name": "ipython",
    "version": 3
   },
   "file_extension": ".py",
   "mimetype": "text/x-python",
   "name": "python",
   "nbconvert_exporter": "python",
   "pygments_lexer": "ipython3",
   "version": "3.11.8"
  }
 },
 "nbformat": 4,
 "nbformat_minor": 5
}
