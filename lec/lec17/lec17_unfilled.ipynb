{
 "cells": [
  {
   "cell_type": "markdown",
   "id": "c9847dca-8a7b-46ce-b3d6-8a53adcf6b0c",
   "metadata": {},
   "source": [
    "## Lecture 17 - Confidence Intervals\n",
    "### Math 032 - Summer 2024"
   ]
  },
  {
   "cell_type": "code",
   "execution_count": null,
   "id": "20cbdeb3-9ac1-47d7-8e4b-cfec387aa1df",
   "metadata": {},
   "outputs": [],
   "source": [
    "import numpy as np\n",
    "import scipy"
   ]
  },
  {
   "cell_type": "markdown",
   "id": "fa0aadc9-fb75-4705-ae0c-77af42a00311",
   "metadata": {},
   "source": [
    "$Z$ standard normal, we are interested in the *number of standard deviations* away from the mean. $\\mu = 0$, $\\sigma^2 =1$"
   ]
  },
  {
   "cell_type": "markdown",
   "id": "71016f2b-7ed6-4755-892e-4f73e24a3d46",
   "metadata": {},
   "source": [
    "#### 68-95-99.7 Rule\n",
    "$$P(-1 \\leq Z \\leq 1) \\approx 0.683$$\n",
    "$$P(-2 \\leq Z \\leq 2) \\approx 0.954$$\n",
    "$$P(-3 \\leq Z \\leq 3) \\approx 0.997$$"
   ]
  },
  {
   "cell_type": "markdown",
   "id": "c29879c1-b056-4ac7-a4a3-1c641b329414",
   "metadata": {},
   "source": [
    "### Confidence Intervals\n",
    "\n",
    "$X_1,...,X_n$ are samples from a common distribution. The sample mean $\\overline{X}= \\frac{X_1+...+X_n}{n}$ is used to estimate the true population mean $\\mu$."
   ]
  },
  {
   "cell_type": "markdown",
   "id": "855617d7-ea8f-486b-beab-2ef21a509a62",
   "metadata": {},
   "source": [
    "## Example -- Sampling Voters\n",
    "\n",
    "$\\mu = $ proportion of registered voters in the U.S. that will vote for Candidate A.\n",
    "\n",
    "$\\overline{X} = $ porportion of voters sampled in a pooll that say they will vote for Candidate A."
   ]
  },
  {
   "cell_type": "markdown",
   "id": "64c4ae73-bf3f-48bd-b046-1915735e2d23",
   "metadata": {},
   "source": [
    "Suppose we <u>observe</u>: $\\overline{X} = 504$ out of $1000$ voters say they will vote for A. <u>How confident</u> should you be that A will win?\n",
    "\n",
    "$$P(\\mu > 0.5\\  \\mid \\  \\overline{X} = 0.504) = \\ ?$$\n",
    "\n",
    "\n",
    "Asking what $P(\\mu > 0.5)$ equals is actually a *silly question*: Either $\\mu > 0.5$, or $\\mu \\leq 0.5$, so the probability is either $0$ or $1$. \n",
    "\n",
    "True $\\mu$ unknown $\\rightarrow$ can't use $z$-table to find probability.\n",
    "\n",
    "e.g. we can't solve for $Z = \\frac{\\overline{X}-\\mu}{\\sigma/\\sqrt{n}}$ since we don't know $\\mu$, or even $\\sigma$."
   ]
  },
  {
   "cell_type": "markdown",
   "id": "983e7f86-0421-4898-8866-3175391855fe",
   "metadata": {},
   "source": [
    "#### <u>Observation</u>: \n",
    "\n",
    "$$\\overline{X} = \\frac{504}{1000}=.504$$\n",
    "\n",
    "$Z = \\frac{\\overline{X}-\\mu}{\\sigma/\\sqrt{n}}$ is approximately normal."
   ]
  },
  {
   "cell_type": "markdown",
   "id": "4a5d6cfb-4eb8-42be-af1a-e693acc5048a",
   "metadata": {},
   "source": [
    "### z-scores\n",
    "\n",
    "A z-score with significance level $\\alpha$\n",
    "\n",
    "A z-score, denoted $z_\\alpha$, is defined as the number of standard deviations an observation from a standard normal distribution is from the mean. For example, if $\\alpha = 0.1$, then\n",
    "\n",
    "\n",
    " $$P(Z>z_{0.1}) = 0.1$$\n",
    "\n",
    "Using a $z$-table, we find that $z_{0.1} \\approx 1.28$.\n"
   ]
  },
  {
   "cell_type": "code",
   "execution_count": null,
   "id": "b72226b4-5248-4b78-9151-e5d7f005b1cc",
   "metadata": {},
   "outputs": [],
   "source": [
    "alpha = ...\n",
    "z = ...\n",
    "print(z)"
   ]
  },
  {
   "cell_type": "markdown",
   "id": "e6062abb-bca9-4e06-8331-efa74c9cfee2",
   "metadata": {},
   "source": [
    "A **confidence interval** with confidence level $CL$ is an interval of the form $(c_l,c_u)$ (two-sided) or $(c_l,\\infty)$ (one-sided), in which we are $CL$\\% *certain* the true mean $\\mu$ falls in that interval.\n"
   ]
  },
  {
   "cell_type": "markdown",
   "id": "3e10c2ce-2b72-4ab8-a08f-2c3b8458ac11",
   "metadata": {},
   "source": [
    "Steps in constructing a **Confidence Interval**\n",
    "\n",
    "- Choose a **Confidence Level** CL.\n",
    "    - e.g. 90,95, or 99\\%\n",
    "- Set $\\alpha = 1-CL$\n",
    "  - if CL = 90\\%, then $\\alpha = 1-0.9 = 0.1$\n",
    "- Find the corresponding **z-score** using a table or calculator.\n",
    "- If $\\sigma$ is known, use $\\sigma$. Otherwise, find the worst case scenario.\n",
    "- Contstruct a one or two-sided **confidence interval**.\n",
    "    - If one-sided, then\n",
    "   $$c_l = \\overline{X} - z_\\alpha \\frac{\\sigma}{\\sqrt{n}}$$\n",
    "    - If two-sided, then\n",
    " $$c_l,c_u = \\overline{X} \\pm z_{\\alpha/2} \\frac{\\sigma}{\\sqrt{n}}$$\n",
    "   "
   ]
  },
  {
   "cell_type": "markdown",
   "id": "e7657c1b-8b7f-4f71-9b6b-b06ce8135180",
   "metadata": {},
   "source": [
    "<u>Observation</u>: \n",
    "\n",
    "The proportion of voters polled that vote for A is \n",
    "\n",
    "$$\\overline{X} = \\frac{504}{10000}=.504$$\n",
    "\n",
    "\n",
    "- Let's use a **confidence level** of $CL = 90$\\%\n",
    "- $\\alpha = 1-0.9 = 0.1 $\n",
    "- The corresponding **z-score** is $z_{0.1} \\approx 1.28$.\n",
    "- In our case, since the unerlying distribution is bernoulli, $\\sigma^2 = p(1-p) = \\mu(1-\\mu)$. Therefore $\\sigma \\leq 1/2$.\n",
    "- The lower bound for the **confidence interval** is\n",
    "\n",
    " $$c_l = \\overline{X} - z_\\alpha \\frac{\\sigma}{\\sqrt{n}} = .504 - 1.28\\frac{0.5}{\\sqrt{1000}}$$\n",
    "\n"
   ]
  },
  {
   "cell_type": "code",
   "execution_count": null,
   "id": "ae35e95e-8e84-4679-907b-84203428ff0c",
   "metadata": {},
   "outputs": [],
   "source": [
    "xbar = ...\n",
    "n = ...\n",
    "alpha = ...\n",
    "z = ...\n",
    "sigma = ...\n",
    "c_lower = ...\n",
    "print(c_lower)"
   ]
  },
  {
   "cell_type": "markdown",
   "id": "174dfadb-4850-403f-8893-5609c3d2e8bc",
   "metadata": {},
   "source": [
    "So we are $90$\\% certain the $\\mu \\in (0.4837,1]$. That is, we are $90$\\% confident that the *true proportion* of voters that vote for Candidate A is *at least* $0.4837$."
   ]
  },
  {
   "cell_type": "markdown",
   "id": "2ade6cf4-d3b5-4ae2-b6e9-4cc3f558eac3",
   "metadata": {},
   "source": [
    "### Question:\n",
    "\n",
    "What if we had sampled $100,000$ voters, and observed $50,400$ voters voting for Candidate A? What would change in our estimate?"
   ]
  },
  {
   "cell_type": "code",
   "execution_count": null,
   "id": "543d612b-55b5-4be3-8aa8-c5392b0714f7",
   "metadata": {},
   "outputs": [],
   "source": [
    "xbar = ...\n",
    "n = ...\n",
    "alpha = ...\n",
    "z = ...\n",
    "sigma = ...\n",
    "c_lower = ...\n",
    "print(c_lower)"
   ]
  },
  {
   "cell_type": "markdown",
   "id": "2594f5f4-2441-4423-ba5c-b9858e42d7b6",
   "metadata": {},
   "source": [
    "We would now be $90$\\% certain the $\\mu \\in (0.502,1]$. That is, we would be $90$\\% confident that the *true proportion* of voters that vote for Candidate A is *at least* $0.502$. Hence, we would be at least $90$\\% certain that candidate A will win the election. This is why it is important to get a large sample size."
   ]
  },
  {
   "cell_type": "code",
   "execution_count": 1,
   "id": "4133b220",
   "metadata": {},
   "outputs": [],
   "source": [
    "## Examples "
   ]
  },
  {
   "cell_type": "markdown",
   "id": "12cab487-b8f1-4c75-8319-f2363a650e49",
   "metadata": {},
   "source": [
    "<img src=\"lec17_examples.png\" style=\"float: center; width: 50%\">"
   ]
  },
  {
   "cell_type": "markdown",
   "id": "0e3f9d9e",
   "metadata": {},
   "source": []
  }
 ],
 "metadata": {
  "kernelspec": {
   "display_name": "Python 3 (ipykernel)",
   "language": "python",
   "name": "python3"
  },
  "language_info": {
   "codemirror_mode": {
    "name": "ipython",
    "version": 3
   },
   "file_extension": ".py",
   "mimetype": "text/x-python",
   "name": "python",
   "nbconvert_exporter": "python",
   "pygments_lexer": "ipython3",
   "version": "3.9.6"
  }
 },
 "nbformat": 4,
 "nbformat_minor": 5
}
